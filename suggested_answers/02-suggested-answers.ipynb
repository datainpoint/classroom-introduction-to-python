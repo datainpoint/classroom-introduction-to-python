{
 "cells": [
  {
   "cell_type": "markdown",
   "metadata": {
    "slideshow": {
     "slide_type": "slide"
    }
   },
   "source": [
    "# 成為初級資料分析師 | Python 程式設計\n",
    "\n",
    "> 函式與數值：參考解答\n",
    "\n",
    "## 郭耀仁"
   ]
  },
  {
   "cell_type": "markdown",
   "metadata": {
    "slideshow": {
     "slide_type": "subslide"
    }
   },
   "source": [
    "## 隨堂練習：定義一個函式 `add(a, b)` 可以將 `a` 與 `b` 的值相加之後回傳\n",
    "\n",
    "- 預期輸入：兩個數值 `a` 與 `b`\n",
    "- 預期輸出：一個數值"
   ]
  },
  {
   "cell_type": "code",
   "execution_count": 1,
   "metadata": {
    "slideshow": {
     "slide_type": "subslide"
    }
   },
   "outputs": [],
   "source": [
    "def add(a, b):\n",
    "    \"\"\"\n",
    "    >>> add(5, 6)\n",
    "    11\n",
    "    >>> add(55, 66)\n",
    "    121\n",
    "    \"\"\"\n",
    "    return a + b"
   ]
  },
  {
   "cell_type": "markdown",
   "metadata": {
    "slideshow": {
     "slide_type": "subslide"
    }
   },
   "source": [
    "## 隨堂練習：定義一個函式 `movie_time(hours, mins)` 可以將 x 小時 y 分鐘的電影時間換算成 z 分鐘後回傳\n",
    "\n",
    "- 預期輸入：兩個數值 `hours` 與 `mins`\n",
    "- 預期輸出：一個數值"
   ]
  },
  {
   "cell_type": "code",
   "execution_count": 2,
   "metadata": {
    "slideshow": {
     "slide_type": "subslide"
    }
   },
   "outputs": [],
   "source": [
    "def movie_time(hours, mins):\n",
    "    \"\"\"\n",
    "    >>> movie_time(3, 1) # Avengers: Endgame\n",
    "    181\n",
    "    >>> movie_time(2, 29) # Avengers: Infinity War\n",
    "    149\n",
    "    \"\"\"\n",
    "    mins += hours * 60\n",
    "    return mins"
   ]
  },
  {
   "cell_type": "markdown",
   "metadata": {
    "slideshow": {
     "slide_type": "subslide"
    }
   },
   "source": [
    "## 隨堂練習：定義一個函式 `celsius_to_fahrenheit(degree)` 可以將氣溫量尺由攝氏轉換為華氏\n",
    "\n",
    "$$Fahrenheit^{\\circ} F = Celsius^{\\circ} C  \\times \\frac{9}{5} + 32$$\n",
    "\n",
    "- 預期輸入：一個數值 `degree`\n",
    "- 預期輸出：一個數值"
   ]
  },
  {
   "cell_type": "code",
   "execution_count": 3,
   "metadata": {
    "slideshow": {
     "slide_type": "subslide"
    }
   },
   "outputs": [],
   "source": [
    "def celsius_to_fahrenheit(degree):\n",
    "    \"\"\"\n",
    "    >>> celsius_to_fahrenheit(30)\n",
    "    86.0\n",
    "    >>> celsius_to_fahrenheit(35)\n",
    "    95.0\n",
    "    \"\"\"\n",
    "    return degree * 9 / 5 + 32"
   ]
  },
  {
   "cell_type": "markdown",
   "metadata": {
    "slideshow": {
     "slide_type": "subslide"
    }
   },
   "source": [
    "## 隨堂練習：定義一個函式 `fahrenheit_to_celsius(degree)` 可以將氣溫量尺由華氏轉換為攝氏\n",
    "\n",
    "$$Celsius^{\\circ} C = (Fahrenheit^{\\circ} F - 32) \\times \\frac{5}{9}$$\n",
    "\n",
    "- 預期輸入：一個數值 `degree`\n",
    "- 預期輸出：一個數值"
   ]
  },
  {
   "cell_type": "code",
   "execution_count": 4,
   "metadata": {
    "slideshow": {
     "slide_type": "subslide"
    }
   },
   "outputs": [],
   "source": [
    "def fahrenheit_to_celsius(degree):\n",
    "    \"\"\"\n",
    "    >>> fahrenheit_to_celsius(86)\n",
    "    30.0\n",
    "    >>> fahrenheit_to_celsius(95)\n",
    "    35.0\n",
    "    \"\"\"\n",
    "    return (degree - 32) * 5 / 9"
   ]
  },
  {
   "cell_type": "markdown",
   "metadata": {
    "slideshow": {
     "slide_type": "subslide"
    }
   },
   "source": [
    "## 隨堂練習：定義一個函式 `bmi_calculator(height, weight)` 可以依據身高（公分）與體重（公斤）計算 BMI（身體質量指數）\n",
    "\n",
    "NBA 史上最偉大的中鋒之一「柴油引擎」俠客歐尼爾（Shaquille O’Neal）巔峰時期的身高為 216 公分、體重為 147 公斤。\n",
    "\n",
    "$$BMI = \\frac{weight_{kg}}{height_{m}^2}$$\n",
    "\n",
    "- 預期輸入：兩個數值 `height` 與 `weight`\n",
    "- 預期輸出：一個數值"
   ]
  },
  {
   "cell_type": "code",
   "execution_count": 5,
   "metadata": {
    "slideshow": {
     "slide_type": "subslide"
    }
   },
   "outputs": [],
   "source": [
    "def bmi_calculator(height, weight):\n",
    "    \"\"\"\n",
    "    >>> bmi_calculator(216, 147) # Shaquille O'Neal in his prime\n",
    "    31.507201646090532\n",
    "    >>> bmi_calculator(198, 129) # Zion Williamson \n",
    "    32.90480563207836\n",
    "    \"\"\"\n",
    "    return weight / (height*0.01)**2"
   ]
  },
  {
   "cell_type": "markdown",
   "metadata": {
    "slideshow": {
     "slide_type": "subslide"
    }
   },
   "source": [
    "## 執行測試"
   ]
  },
  {
   "cell_type": "code",
   "execution_count": 6,
   "metadata": {
    "slideshow": {
     "slide_type": "subslide"
    }
   },
   "outputs": [
    {
     "name": "stderr",
     "output_type": "stream",
     "text": [
      "test_add (__main__.TestFunctionsAndNumerics) ... ok\n",
      "test_bmi_calculator (__main__.TestFunctionsAndNumerics) ... ok\n",
      "test_celsius_to_fahrenheit (__main__.TestFunctionsAndNumerics) ... ok\n",
      "test_fahrenheit_to_celsius (__main__.TestFunctionsAndNumerics) ... ok\n",
      "test_movie_time (__main__.TestFunctionsAndNumerics) ... ok\n",
      "\n",
      "----------------------------------------------------------------------\n",
      "Ran 5 tests in 0.007s\n",
      "\n",
      "OK\n"
     ]
    }
   ],
   "source": [
    "# %load ../test_cases/test_cases_02.py\n",
    "import unittest\n",
    "\n",
    "class TestFunctionsAndNumerics(unittest.TestCase):\n",
    "    def test_add(self):\n",
    "        self.assertEqual(add(5, 6), 11)\n",
    "        self.assertEqual(add(55, 66), 121)\n",
    "    def test_movie_time(self):\n",
    "        self.assertEqual(movie_time(3, 1), 181)\n",
    "        self.assertEqual(movie_time(2, 29), 149)\n",
    "    def test_celsius_to_fahrenheit(self):\n",
    "        self.assertAlmostEqual(celsius_to_fahrenheit(30), 86.0)\n",
    "        self.assertAlmostEqual(celsius_to_fahrenheit(35), 95.0)\n",
    "    def test_fahrenheit_to_celsius(self):\n",
    "        self.assertAlmostEqual(fahrenheit_to_celsius(86), 30.0)\n",
    "        self.assertAlmostEqual(fahrenheit_to_celsius(95), 35.0)\n",
    "    def test_bmi_calculator(self):\n",
    "        self.assertAlmostEqual(bmi_calculator(216, 147), 31.507201646090532)\n",
    "        self.assertAlmostEqual(bmi_calculator(198, 129), 32.90480563207836)\n",
    "\n",
    "suite = unittest.TestLoader().loadTestsFromTestCase(TestFunctionsAndNumerics)\n",
    "runner = unittest.TextTestRunner(verbosity=2)\n",
    "test_results = runner.run(suite)"
   ]
  }
 ],
 "metadata": {
  "celltoolbar": "Slideshow",
  "kernelspec": {
   "display_name": "Python 3",
   "language": "python",
   "name": "python3"
  },
  "language_info": {
   "codemirror_mode": {
    "name": "ipython",
    "version": 3
   },
   "file_extension": ".py",
   "mimetype": "text/x-python",
   "name": "python",
   "nbconvert_exporter": "python",
   "pygments_lexer": "ipython3",
   "version": "3.6.8"
  }
 },
 "nbformat": 4,
 "nbformat_minor": 1
}
