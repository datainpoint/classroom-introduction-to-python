{
 "cells": [
  {
   "cell_type": "markdown",
   "metadata": {
    "slideshow": {
     "slide_type": "slide"
    }
   },
   "source": [
    "# 鍛鍊你的資料分析力 | Python 程式設計\n",
    "\n",
    "> 類別\n",
    "\n",
    "郭耀仁 <yaojenkuo@datainpoint.com> from [DATAINPOINT](https://www.datainpoint.com/)"
   ]
  },
  {
   "cell_type": "markdown",
   "metadata": {
    "slideshow": {
     "slide_type": "subslide"
    }
   },
   "source": [
    "> The main \"actors\" in the object-oriented paradigm are called objects."
   ]
  },
  {
   "cell_type": "markdown",
   "metadata": {
    "slideshow": {
     "slide_type": "subslide"
    }
   },
   "source": [
    "## 程式封裝的層級\n",
    "\n",
    "- 套件（Libraries）\n",
    "    - 模組（Modules）\n",
    "        - **類別（Classes）**\n",
    "            - 函式（Functions）"
   ]
  },
  {
   "cell_type": "markdown",
   "metadata": {
    "slideshow": {
     "slide_type": "subslide"
    }
   },
   "source": [
    "## 程式封裝的層級\n",
    "\n",
    "- 將數行程式碼組合為一個函式（Function）\n",
    "- **將數個函式組合為一個類別（Class）**\n",
    "- 將數個類別組合為一個模組（Module）\n",
    "- 將數個模組組合為一個套件（Library）"
   ]
  },
  {
   "cell_type": "markdown",
   "metadata": {
    "slideshow": {
     "slide_type": "subslide"
    }
   },
   "source": [
    "## 大綱\n",
    "\n",
    "- 目標與準則\n",
    "- 定義類別\n",
    "- 繼承\n",
    "- 隨堂練習"
   ]
  },
  {
   "cell_type": "markdown",
   "metadata": {
    "slideshow": {
     "slide_type": "slide"
    }
   },
   "source": [
    "## 目標與準則"
   ]
  },
  {
   "cell_type": "markdown",
   "metadata": {
    "slideshow": {
     "slide_type": "subslide"
    }
   },
   "source": [
    "## 目標：從程式設計到軟體開發\n",
    "\n",
    "- 強韌 Robustness: 軟體考慮到所有可能的輸入情況，並對應到正確的輸出情況\n",
    "- 調適 Adaptability: 軟體可以與時俱進\n",
    "- 重複使用 Reusability: 功能模組化，可以在未來的開發直接使用"
   ]
  },
  {
   "cell_type": "markdown",
   "metadata": {
    "slideshow": {
     "slide_type": "subslide"
    }
   },
   "source": [
    "## 物件導向（Object-oriented programming）是讓程式碼達成目標的途徑"
   ]
  },
  {
   "cell_type": "markdown",
   "metadata": {
    "slideshow": {
     "slide_type": "subslide"
    }
   },
   "source": [
    "## 準則：物件導向的程式設計考量\n",
    "\n",
    "- 封裝 Encapsulation: 將變數與函式與物件進行綁定\n",
    "- 摘要 Abstraction: 描述出物件重要的資訊與行為\n",
    "- 模組化 Modularity: 拆解物件為不同作用的小單位"
   ]
  },
  {
   "cell_type": "markdown",
   "metadata": {
    "slideshow": {
     "slide_type": "slide"
    }
   },
   "source": [
    "## 定義類別"
   ]
  },
  {
   "cell_type": "markdown",
   "metadata": {
    "slideshow": {
     "slide_type": "subslide"
    }
   },
   "source": [
    "## 類別是實踐物件導向的第一個主題\n",
    "\n",
    "- 自訂類別（Class）模擬真實世界的情況\n",
    "- 每個物件都是一個特定類別\n",
    "- 類別提供成員屬性（member attributes）提供靜態資訊、提供成員函式（member functions）提供動態行為"
   ]
  },
  {
   "cell_type": "markdown",
   "metadata": {
    "slideshow": {
     "slide_type": "subslide"
    }
   },
   "source": [
    "## 自訂類別中的元件別稱\n",
    "\n",
    "- 成員屬性（member attributes）：有時也稱呼為欄位（fields）、物件變數（instance variables）或資料（data members）\n",
    "- 成員函式：有時也稱呼為方法（methods）"
   ]
  },
  {
   "cell_type": "markdown",
   "metadata": {
    "slideshow": {
     "slide_type": "subslide"
    }
   },
   "source": [
    "## 自訂類別程式碼結構\n",
    "\n",
    "- 使用 `class` 保留字\n",
    "- 類別名稱為**單數**名詞\n",
    "- 以長字串 \"\"\"Docstrings\"\"\" 撰寫類別說明"
   ]
  },
  {
   "cell_type": "markdown",
   "metadata": {
    "slideshow": {
     "slide_type": "subslide"
    }
   },
   "source": [
    "```python\n",
    "class ClassName:\n",
    "    \"\"\"\n",
    "    Docstrings\n",
    "    \"\"\"\n",
    "    def method_of_class(self):\n",
    "        # ...\n",
    "        return\n",
    "```"
   ]
  },
  {
   "cell_type": "markdown",
   "metadata": {
    "slideshow": {
     "slide_type": "subslide"
    }
   },
   "source": [
    "## 綁定函式到類別之中\n",
    "\n",
    "`self` 用來表達未來將被創建出來的那個物件。"
   ]
  },
  {
   "cell_type": "code",
   "execution_count": 1,
   "metadata": {
    "slideshow": {
     "slide_type": "-"
    }
   },
   "outputs": [],
   "source": [
    "class Calculator:\n",
    "    def add(self, a, b):\n",
    "        return a + b"
   ]
  },
  {
   "cell_type": "code",
   "execution_count": 2,
   "metadata": {
    "slideshow": {
     "slide_type": "subslide"
    }
   },
   "outputs": [
    {
     "data": {
      "text/plain": [
       "11"
      ]
     },
     "execution_count": 2,
     "metadata": {},
     "output_type": "execute_result"
    }
   ],
   "source": [
    "calculator = Calculator() # 創建物件\n",
    "calculator.add(5, 6)      # 呼叫方法    "
   ]
  },
  {
   "cell_type": "markdown",
   "metadata": {
    "slideshow": {
     "slide_type": "subslide"
    }
   },
   "source": [
    "## 綁定屬性到類別之中\n",
    "\n",
    "初始化方法 `__init__(self)` 在宣告以自訂類別創建物件的當下被觸發。"
   ]
  },
  {
   "cell_type": "markdown",
   "metadata": {
    "slideshow": {
     "slide_type": "subslide"
    }
   },
   "source": [
    "```python\n",
    "class ClassName:\n",
    "    \"\"\"\n",
    "    Docstrings\n",
    "    \"\"\"\n",
    "    def __init__(self, attr):\n",
    "        self._attr = attr\n",
    "```"
   ]
  },
  {
   "cell_type": "code",
   "execution_count": 3,
   "metadata": {
    "slideshow": {
     "slide_type": "subslide"
    }
   },
   "outputs": [],
   "source": [
    "class Calculator:\n",
    "    def __init__(self, a, b):\n",
    "        self._a = a\n",
    "        self._b = b"
   ]
  },
  {
   "cell_type": "code",
   "execution_count": 4,
   "metadata": {
    "slideshow": {
     "slide_type": "subslide"
    }
   },
   "outputs": [
    {
     "name": "stdout",
     "output_type": "stream",
     "text": [
      "5\n",
      "6\n"
     ]
    }
   ],
   "source": [
    "calculator = Calculator(5, 6) # 創建物件\n",
    "print(calculator._a)          # 檢視屬性\n",
    "print(calculator._b)          # 檢視屬性"
   ]
  },
  {
   "cell_type": "markdown",
   "metadata": {
    "slideshow": {
     "slide_type": "subslide"
    }
   },
   "source": [
    "## 綁定方法與屬性的類別\n",
    "\n",
    "透過 `self.attr` 運用綁定在類別上的屬性。"
   ]
  },
  {
   "cell_type": "code",
   "execution_count": 5,
   "metadata": {},
   "outputs": [],
   "source": [
    "class Calculator:\n",
    "    def __init__(self, a, b):\n",
    "        self._a = a\n",
    "        self._b = b\n",
    "    def add(self):\n",
    "        return self._a + self._b"
   ]
  },
  {
   "cell_type": "code",
   "execution_count": 6,
   "metadata": {
    "slideshow": {
     "slide_type": "subslide"
    }
   },
   "outputs": [
    {
     "data": {
      "text/plain": [
       "11"
      ]
     },
     "execution_count": 6,
     "metadata": {},
     "output_type": "execute_result"
    }
   ],
   "source": [
    "calculator = Calculator(5, 6)\n",
    "calculator.add()"
   ]
  },
  {
   "cell_type": "markdown",
   "metadata": {
    "slideshow": {
     "slide_type": "subslide"
    }
   },
   "source": [
    "## 在類別中呼叫方法"
   ]
  },
  {
   "cell_type": "code",
   "execution_count": 7,
   "metadata": {},
   "outputs": [],
   "source": [
    "class Calculator:\n",
    "    def __init__(self, a, b):\n",
    "        self._a = a\n",
    "        self._b = b\n",
    "    def add(self):\n",
    "        return self._a + self._b\n",
    "    def add_then_squared(self): # (a+b)**2\n",
    "        add_res = self.add()\n",
    "        return add_res**2"
   ]
  },
  {
   "cell_type": "code",
   "execution_count": 8,
   "metadata": {
    "slideshow": {
     "slide_type": "subslide"
    }
   },
   "outputs": [
    {
     "data": {
      "text/plain": [
       "121"
      ]
     },
     "execution_count": 8,
     "metadata": {},
     "output_type": "execute_result"
    }
   ],
   "source": [
    "calculator = Calculator(5, 6)\n",
    "calculator.add_then_squared()"
   ]
  },
  {
   "cell_type": "markdown",
   "metadata": {
    "slideshow": {
     "slide_type": "subslide"
    }
   },
   "source": [
    "## 在類別藉由呼叫方法新增屬性\n",
    "\n",
    "並非只有 `__init__` 方法可以新增屬性。"
   ]
  },
  {
   "cell_type": "code",
   "execution_count": 9,
   "metadata": {},
   "outputs": [],
   "source": [
    "class Calculator:\n",
    "    def __init__(self, a, b):\n",
    "        self._a = a\n",
    "        self._b = b\n",
    "    def add(self):\n",
    "        self._a_plus_b = self._a + self._b\n",
    "    def add_then_squared(self): # (a+b)**2\n",
    "        self.add()\n",
    "        return (self._a_plus_b)**2"
   ]
  },
  {
   "cell_type": "code",
   "execution_count": 10,
   "metadata": {},
   "outputs": [
    {
     "data": {
      "text/plain": [
       "121"
      ]
     },
     "execution_count": 10,
     "metadata": {},
     "output_type": "execute_result"
    }
   ],
   "source": [
    "calculator = Calculator(5, 6)\n",
    "calculator.add_then_squared()"
   ]
  },
  {
   "cell_type": "markdown",
   "metadata": {
    "slideshow": {
     "slide_type": "subslide"
    }
   },
   "source": [
    "## 物件、類別、屬性與方法\n",
    "\n",
    "- 我們使用類別創建物件（Objects）\n",
    "    - 我們使用類別（Classes）綁定屬性與方法\n",
    "        - 屬性（Attributes）描述靜態資訊\n",
    "        - 方法（Methods）描述動態行為"
   ]
  },
  {
   "cell_type": "markdown",
   "metadata": {
    "slideshow": {
     "slide_type": "slide"
    }
   },
   "source": [
    "## 繼承"
   ]
  },
  {
   "cell_type": "markdown",
   "metadata": {
    "slideshow": {
     "slide_type": "subslide"
    }
   },
   "source": [
    "## 繼承：定義新的類別時可以沿用既有類別的所有方法與屬性\n",
    "\n",
    "```python\n",
    "class NewClassName(ClassName)\n",
    "```"
   ]
  },
  {
   "cell_type": "code",
   "execution_count": 11,
   "metadata": {
    "slideshow": {
     "slide_type": "subslide"
    }
   },
   "outputs": [],
   "source": [
    "class NewCalculator(Calculator):\n",
    "    pass\n",
    "new_calculator = NewCalculator(5, 6)\n",
    "new_calculator.add()"
   ]
  },
  {
   "cell_type": "markdown",
   "metadata": {
    "slideshow": {
     "slide_type": "subslide"
    }
   },
   "source": [
    "## 繼承後可以新增方法且保存既有方法\n",
    "\n",
    "```python\n",
    "class NewClassName(ClassName):\n",
    "    def new_method(self):\n",
    "        #...\n",
    "```"
   ]
  },
  {
   "cell_type": "code",
   "execution_count": 12,
   "metadata": {
    "slideshow": {
     "slide_type": "subslide"
    }
   },
   "outputs": [
    {
     "name": "stdout",
     "output_type": "stream",
     "text": [
      "None\n",
      "-1\n"
     ]
    }
   ],
   "source": [
    "class NewCalculator(Calculator):\n",
    "    def subtract(self):\n",
    "        return self._a - self._b\n",
    "new_calculator = NewCalculator(5, 6)\n",
    "print(new_calculator.add())\n",
    "print(new_calculator.subtract())"
   ]
  },
  {
   "cell_type": "markdown",
   "metadata": {
    "slideshow": {
     "slide_type": "subslide"
    }
   },
   "source": [
    "## 繼承後可以改寫方法"
   ]
  },
  {
   "cell_type": "code",
   "execution_count": 13,
   "metadata": {},
   "outputs": [
    {
     "data": {
      "text/plain": [
       "30"
      ]
     },
     "execution_count": 13,
     "metadata": {},
     "output_type": "execute_result"
    }
   ],
   "source": [
    "class NewCalculator(Calculator):\n",
    "    def add(self):\n",
    "        return self._a * self._b\n",
    "new_calculator = NewCalculator(5, 6)\n",
    "new_calculator.add()"
   ]
  },
  {
   "cell_type": "markdown",
   "metadata": {
    "slideshow": {
     "slide_type": "subslide"
    }
   },
   "source": [
    "## 繼承後可以新增屬性"
   ]
  },
  {
   "cell_type": "code",
   "execution_count": 14,
   "metadata": {},
   "outputs": [
    {
     "name": "stdout",
     "output_type": "stream",
     "text": [
      "5\n",
      "6\n",
      "5566\n"
     ]
    }
   ],
   "source": [
    "class NewCalculator(Calculator):\n",
    "    def __init__(self, a, b, c):\n",
    "        super().__init__(a, b)\n",
    "        self._c = c\n",
    "new_calculator = NewCalculator(5, 6, 5566) # 創建物件\n",
    "print(new_calculator._a)                   # 檢視屬性\n",
    "print(new_calculator._b)                   # 檢視屬性\n",
    "print(new_calculator._c)                   # 檢視屬性"
   ]
  },
  {
   "cell_type": "markdown",
   "metadata": {
    "slideshow": {
     "slide_type": "subslide"
    }
   },
   "source": [
    "## 繼承是實踐「集合」的自然方式\n",
    "\n",
    "以國家、程式與行政區為例：\n",
    "\n",
    "- 國家（Country）\n",
    "    - 城市（City）\n",
    "        - 行政區（Town）"
   ]
  },
  {
   "cell_type": "markdown",
   "metadata": {
    "slideshow": {
     "slide_type": "subslide"
    }
   },
   "source": [
    "## 母集合與子集合\n",
    "\n",
    "- 城市是行政區的母集合（Superset）、行政區是城市的子集合（Subset）\n",
    "- 國家是城市的母集合（Superset）、城市為國家的子集合（Subset）"
   ]
  },
  {
   "cell_type": "code",
   "execution_count": 15,
   "metadata": {
    "slideshow": {
     "slide_type": "subslide"
    }
   },
   "outputs": [
    {
     "data": {
      "text/plain": [
       "'Taiwan'"
      ]
     },
     "execution_count": 15,
     "metadata": {},
     "output_type": "execute_result"
    }
   ],
   "source": [
    "class Country:\n",
    "    def __init__(self, country_name):\n",
    "        self._country_name = country_name\n",
    "    def get_country_name(self):\n",
    "        return self._country_name\n",
    "twn = Country('Taiwan')\n",
    "twn.get_country_name()"
   ]
  },
  {
   "cell_type": "code",
   "execution_count": 16,
   "metadata": {
    "slideshow": {
     "slide_type": "subslide"
    }
   },
   "outputs": [
    {
     "data": {
      "text/plain": [
       "'Taipei, Taiwan'"
      ]
     },
     "execution_count": 16,
     "metadata": {},
     "output_type": "execute_result"
    }
   ],
   "source": [
    "class City(Country):\n",
    "    def __init__(self, country_name, city_name):\n",
    "        super().__init__(country_name)\n",
    "        self._city_name = city_name\n",
    "    def get_city_name(self):\n",
    "        return \"{}, {}\".format(self._city_name, self._country_name)\n",
    "tpe = City('Taiwan', 'Taipei')\n",
    "tpe.get_city_name()"
   ]
  },
  {
   "cell_type": "code",
   "execution_count": 17,
   "metadata": {
    "slideshow": {
     "slide_type": "subslide"
    }
   },
   "outputs": [
    {
     "data": {
      "text/plain": [
       "'Da-an, Taipei, Taiwan'"
      ]
     },
     "execution_count": 17,
     "metadata": {},
     "output_type": "execute_result"
    }
   ],
   "source": [
    "class Town(City):\n",
    "    def __init__(self, country_name, city_name, town_name):\n",
    "        super().__init__(country_name, city_name)\n",
    "        self._town_name = town_name\n",
    "    def get_town_name(self):\n",
    "        return \"{}, {}, {}\".format(self._town_name, self._city_name, self._country_name)\n",
    "daan = Town('Taiwan', 'Taipei', 'Da-an')\n",
    "daan.get_town_name()"
   ]
  },
  {
   "cell_type": "markdown",
   "metadata": {
    "slideshow": {
     "slide_type": "slide"
    }
   },
   "source": [
    "## 隨堂練習"
   ]
  },
  {
   "cell_type": "markdown",
   "metadata": {
    "slideshow": {
     "slide_type": "subslide"
    }
   },
   "source": [
    "## 隨堂練習：創建類別 `Calculator` 具有 4 個方法 `add()`、`subtract()`、`multiply()` 與 `divide()`\n",
    "\n",
    "- 預期輸入：兩個數值\n",
    "- 預期輸出：一個數值"
   ]
  },
  {
   "cell_type": "code",
   "execution_count": 18,
   "metadata": {
    "slideshow": {
     "slide_type": "subslide"
    }
   },
   "outputs": [],
   "source": [
    "class Calculator:\n",
    "    \"\"\"\n",
    "    >>> calculator = Calculator()\n",
    "    >>> calculator.add(5, 6)\n",
    "    11\n",
    "    >>> calculator.subtract(5, 6)\n",
    "    -1\n",
    "    >>> calculator.multiply(5, 6)\n",
    "    30\n",
    "    >>> calculator.divide(6, 3)\n",
    "    2.0\n",
    "    \"\"\""
   ]
  },
  {
   "cell_type": "markdown",
   "metadata": {
    "slideshow": {
     "slide_type": "subslide"
    }
   },
   "source": [
    "## 隨堂練習：創建類別 `Aggregator` 具有 2 個方法 `product()` 與 `summation()`\n",
    "\n",
    "- 預期輸入：彈性參數 `*args`\n",
    "- 預期輸出：一個數值"
   ]
  },
  {
   "cell_type": "code",
   "execution_count": 19,
   "metadata": {
    "slideshow": {
     "slide_type": "subslide"
    }
   },
   "outputs": [],
   "source": [
    "class Aggregator:\n",
    "    \"\"\"\n",
    "    >>> aggregator = Aggregator()\n",
    "    >>> aggregator.product(5, 5, 6, 6)\n",
    "    900\n",
    "    >>> aggregator.summation(5, 5, 6, 6)\n",
    "    22\n",
    "    \"\"\""
   ]
  },
  {
   "cell_type": "markdown",
   "metadata": {
    "slideshow": {
     "slide_type": "subslide"
    }
   },
   "source": [
    "## 隨堂練習：創建類別 `NewCalculator` 繼承先前定義的 `Calculator` 類別，加入 3 個方法 `power()`、`get_modulo()` 與 `get_quotient()`\n",
    "\n",
    "- 預期輸入：兩個數值\n",
    "- 預期輸出：一個數值"
   ]
  },
  {
   "cell_type": "code",
   "execution_count": 20,
   "metadata": {
    "slideshow": {
     "slide_type": "subslide"
    }
   },
   "outputs": [],
   "source": [
    "class NewCalculator(Calculator):\n",
    "    \"\"\"\n",
    "    >>> new_calculator = NewCalculator()\n",
    "    >>> new_calculator.add(5, 6)\n",
    "    11\n",
    "    >>> new_calculator.subtract(5, 6)\n",
    "    -1\n",
    "    >>> new_calculator.multiply(5, 6)\n",
    "    30\n",
    "    >>> new_calculator.divide(6, 3)\n",
    "    2.0\n",
    "    >>> new_calculator.power(5, 2)\n",
    "    25\n",
    "    >>> new_calculator.get_modulo(5, 6)\n",
    "    5\n",
    "    >>> new_calculator.get_quotient(5, 6)\n",
    "    0\n",
    "    \"\"\""
   ]
  },
  {
   "cell_type": "markdown",
   "metadata": {
    "slideshow": {
     "slide_type": "subslide"
    }
   },
   "source": [
    "## 隨堂練習：創建類別 `NewAggregator` 繼承先前定義的 `Aggregator` 類別，加入 2 個方法 `length()` 與 `mean()`\n",
    "\n",
    "- 預期輸入：彈性參數 `*args`\n",
    "- 預期輸出：一個數值"
   ]
  },
  {
   "cell_type": "code",
   "execution_count": 21,
   "metadata": {
    "slideshow": {
     "slide_type": "subslide"
    }
   },
   "outputs": [],
   "source": [
    "class NewAggregator(Aggregator):\n",
    "    \"\"\"\n",
    "    >>> new_aggregator = NewAggregator()\n",
    "    >>> new_aggregator.product(5, 5, 6, 6)\n",
    "    900\n",
    "    >>> new_aggregator.summation(5, 5, 6, 6)\n",
    "    22\n",
    "    >>> new_aggregator.length(5, 5, 6, 6)\n",
    "    4\n",
    "    >>> new_aggregator.mean(5, 5, 6, 6)\n",
    "    5.5\n",
    "    \"\"\""
   ]
  },
  {
   "cell_type": "markdown",
   "metadata": {
    "slideshow": {
     "slide_type": "subslide"
    }
   },
   "source": [
    "## 隨堂練習：創建類別 `Recursives` 具有 2 個方法\n",
    "\n",
    "- `factorial(n)`\n",
    "- `fibonacci(n)`"
   ]
  },
  {
   "cell_type": "markdown",
   "metadata": {
    "slideshow": {
     "slide_type": "subslide"
    }
   },
   "source": [
    "```python\n",
    "def factorial(n):\n",
    "    if n == 0:\n",
    "        return 1\n",
    "    elif n == 1:\n",
    "        return 1\n",
    "    else:\n",
    "        return n*factorial(n-1) # recursive happens here\n",
    "def fibonacci(n):\n",
    "    if n == 0:\n",
    "        return 0\n",
    "    elif n == 1:\n",
    "        return 1\n",
    "    else:\n",
    "        return fibonacci(n-1) + fibonacci(n-2) # recursive happens here\n",
    "```"
   ]
  },
  {
   "cell_type": "code",
   "execution_count": 22,
   "metadata": {
    "slideshow": {
     "slide_type": "subslide"
    }
   },
   "outputs": [],
   "source": [
    "class Recursives:\n",
    "    \"\"\"\n",
    "    >>> recur = Recursives()\n",
    "    >>> recur.factorial(0)\n",
    "    1\n",
    "    >>> recur.fibonacci(0)\n",
    "    0\n",
    "    >>> recur.factorial(1)\n",
    "    1\n",
    "    >>> recur.fibonacci(1)\n",
    "    1\n",
    "    >>> recur.factorial(2)\n",
    "    2\n",
    "    >>> recur.fibonacci(2)\n",
    "    1\n",
    "    \"\"\""
   ]
  },
  {
   "cell_type": "code",
   "execution_count": null,
   "metadata": {
    "slideshow": {
     "slide_type": "-"
    }
   },
   "outputs": [],
   "source": [
    "# %load ../test_cases/test_cases_08.py"
   ]
  }
 ],
 "metadata": {
  "celltoolbar": "Slideshow",
  "kernelspec": {
   "display_name": "Python Data Analysis",
   "language": "python",
   "name": "pyda"
  },
  "language_info": {
   "codemirror_mode": {
    "name": "ipython",
    "version": 3
   },
   "file_extension": ".py",
   "mimetype": "text/x-python",
   "name": "python",
   "nbconvert_exporter": "python",
   "pygments_lexer": "ipython3",
   "version": "3.6.8"
  }
 },
 "nbformat": 4,
 "nbformat_minor": 1
}
