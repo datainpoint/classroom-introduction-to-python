{
 "cells": [
  {
   "cell_type": "markdown",
   "metadata": {
    "slideshow": {
     "slide_type": "slide"
    }
   },
   "source": [
    "# 鍛鍊資料分析力 | Python 程式設計\n",
    "\n",
    "> 資料型態\n",
    "\n",
    "郭耀仁 <yaojenkuo@datainpoint.com> from [DATAINPOINT](https://www.datainpoint.com/)"
   ]
  },
  {
   "cell_type": "markdown",
   "metadata": {
    "slideshow": {
     "slide_type": "subslide"
    }
   },
   "source": [
    "> There are only two hard things in Computer Science: cache invalidation and naming things.\n",
    "> \n",
    "> Phil Karlton"
   ]
  },
  {
   "cell_type": "markdown",
   "metadata": {
    "slideshow": {
     "slide_type": "subslide"
    }
   },
   "source": [
    "## 大綱\n",
    "\n",
    "- 文字\n",
    "- 布林\n",
    "- 空值\n",
    "- 資料型態轉換"
   ]
  },
  {
   "cell_type": "markdown",
   "metadata": {
    "slideshow": {
     "slide_type": "slide"
    }
   },
   "source": [
    "## 文字"
   ]
  },
  {
   "cell_type": "markdown",
   "metadata": {
    "slideshow": {
     "slide_type": "subslide"
    }
   },
   "source": [
    "## 使用成雙的單引號或成對的雙引號來建立文字，多數的時候使用單引號或者雙引號不會有分別"
   ]
  },
  {
   "cell_type": "code",
   "execution_count": 1,
   "metadata": {
    "slideshow": {
     "slide_type": "subslide"
    }
   },
   "outputs": [
    {
     "name": "stdout",
     "output_type": "stream",
     "text": [
      "Avengers: Endgame\n",
      "<class 'str'>\n"
     ]
    }
   ],
   "source": [
    "# 使用單引號\n",
    "movie_title = 'Avengers: Endgame'\n",
    "print(movie_title)\n",
    "print(type(movie_title))"
   ]
  },
  {
   "cell_type": "code",
   "execution_count": 2,
   "metadata": {
    "slideshow": {
     "slide_type": "subslide"
    }
   },
   "outputs": [
    {
     "name": "stdout",
     "output_type": "stream",
     "text": [
      "Avengers: Endgame\n",
      "<class 'str'>\n"
     ]
    }
   ],
   "source": [
    "# 使用雙引號\n",
    "movie_title = \"Avengers: Endgame\"\n",
    "print(movie_title)\n",
    "print(type(movie_title))"
   ]
  },
  {
   "cell_type": "markdown",
   "metadata": {
    "slideshow": {
     "slide_type": "subslide"
    }
   },
   "source": [
    "## 亦可以使用六個雙引號來建立長文字，像是一個有換行的文章段落"
   ]
  },
  {
   "cell_type": "code",
   "execution_count": 3,
   "metadata": {
    "slideshow": {
     "slide_type": "subslide"
    }
   },
   "outputs": [
    {
     "name": "stdout",
     "output_type": "stream",
     "text": [
      "\n",
      "After the devastating events of Avengers: Infinity War (2018), the universe is in ruins. \n",
      "\n",
      "With the help of remaining allies, the Avengers assemble once more in order to undo Thanos' actions and restore order to the universe.\n",
      "\n",
      "<class 'str'>\n"
     ]
    }
   ],
   "source": [
    "story_line = \"\"\"\n",
    "After the devastating events of Avengers: Infinity War (2018), the universe is in ruins. \n",
    "\n",
    "With the help of remaining allies, the Avengers assemble once more in order to undo Thanos' actions and restore order to the universe.\n",
    "\"\"\"\n",
    "print(story_line)\n",
    "print(type(story_line))"
   ]
  },
  {
   "cell_type": "markdown",
   "metadata": {
    "slideshow": {
     "slide_type": "subslide"
    }
   },
   "source": [
    "## 長文字在自訂函式時，會被視為函式的說明文件，在使用 `help()` 函式時會被印出來"
   ]
  },
  {
   "cell_type": "code",
   "execution_count": 4,
   "metadata": {
    "slideshow": {
     "slide_type": "subslide"
    }
   },
   "outputs": [
    {
     "name": "stdout",
     "output_type": "stream",
     "text": [
      "Help on function endgame_story_line in module __main__:\n",
      "\n",
      "endgame_story_line()\n",
      "    This function returns the story line of Avengers: Endgame (2019).\n",
      "\n"
     ]
    }
   ],
   "source": [
    "def endgame_story_line():\n",
    "    \"\"\"\n",
    "    This function returns the story line of Avengers: Endgame (2019).\n",
    "    \"\"\"\n",
    "    story_line = \"\"\"\n",
    "    After the devastating events of Avengers: Infinity War (2018), the universe is in ruins. \n",
    "\n",
    "    With the help of remaining allies, the Avengers assemble once more in order to undo Thanos' actions and restore order to the universe.\n",
    "    \"\"\"\n",
    "    return story_line\n",
    "\n",
    "help(endgame_story_line)"
   ]
  },
  {
   "cell_type": "markdown",
   "metadata": {
    "slideshow": {
     "slide_type": "subslide"
    }
   },
   "source": [
    "## 少數時候宣告一個儲存文字資料值的物件使用單引號或雙引號會有差異"
   ]
  },
  {
   "cell_type": "code",
   "execution_count": 5,
   "metadata": {},
   "outputs": [
    {
     "ename": "SyntaxError",
     "evalue": "invalid syntax (<ipython-input-5-fc177b77cffd>, line 2)",
     "output_type": "error",
     "traceback": [
      "\u001b[0;36m  File \u001b[0;32m\"<ipython-input-5-fc177b77cffd>\"\u001b[0;36m, line \u001b[0;32m2\u001b[0m\n\u001b[0;31m    shaq = 'Shaquille O'Neal'\u001b[0m\n\u001b[0m                           ^\u001b[0m\n\u001b[0;31mSyntaxError\u001b[0m\u001b[0;31m:\u001b[0m invalid syntax\n"
     ]
    }
   ],
   "source": [
    "shaq = \"Shaquille O'Neal\"\n",
    "shaq = 'Shaquille O'Neal'"
   ]
  },
  {
   "cell_type": "markdown",
   "metadata": {
    "slideshow": {
     "slide_type": "subslide"
    }
   },
   "source": [
    "## Single quotes 與 Apostrophe 是不同的\n",
    "\n",
    "必須使用 `\\`（跳脫字元）來標註 Apostrophe。"
   ]
  },
  {
   "cell_type": "code",
   "execution_count": 6,
   "metadata": {},
   "outputs": [
    {
     "name": "stdout",
     "output_type": "stream",
     "text": [
      "Shaquille O'Neal\n",
      "<class 'str'>\n"
     ]
    }
   ],
   "source": [
    "shaq = 'Shaquille O\\'Neal'\n",
    "print(shaq)\n",
    "print(type(shaq))"
   ]
  },
  {
   "cell_type": "code",
   "execution_count": 7,
   "metadata": {
    "slideshow": {
     "slide_type": "subslide"
    }
   },
   "outputs": [
    {
     "name": "stdout",
     "output_type": "stream",
     "text": [
      "I'm lovin' it!\n",
      "<class 'str'>\n"
     ]
    }
   ],
   "source": [
    "mcd = 'I\\'m lovin\\' it!'\n",
    "print(mcd)\n",
    "print(type(mcd))"
   ]
  },
  {
   "cell_type": "markdown",
   "metadata": {
    "slideshow": {
     "slide_type": "subslide"
    }
   },
   "source": [
    "## 文字支援 `+` 和 `*` 這兩個運算符號\n",
    "\n",
    "- `+` 可以將文字進行連接\n",
    "- `*` 可以將文字重複"
   ]
  },
  {
   "cell_type": "code",
   "execution_count": 8,
   "metadata": {
    "slideshow": {
     "slide_type": "subslide"
    }
   },
   "outputs": [
    {
     "name": "stdout",
     "output_type": "stream",
     "text": [
      "5566\n",
      "55665566\n"
     ]
    }
   ],
   "source": [
    "print(\"55\" + \"66\")\n",
    "print(\"5566\"*2)"
   ]
  },
  {
   "cell_type": "markdown",
   "metadata": {
    "slideshow": {
     "slide_type": "subslide"
    }
   },
   "source": [
    "## 使用 `.format()` 在文字中嵌入物件的資料值（String interpolation）\n",
    "\n",
    "`\"{}\".format(object_name)`"
   ]
  },
  {
   "cell_type": "code",
   "execution_count": 9,
   "metadata": {},
   "outputs": [
    {
     "name": "stdout",
     "output_type": "stream",
     "text": [
      "Shaquille O'Neal is one of the greatest center in NBA history.\n"
     ]
    }
   ],
   "source": [
    "great_center = \"Shaquille O'Neal\"\n",
    "print(\"{} is one of the greatest center in NBA history.\".format(great_center))"
   ]
  },
  {
   "cell_type": "markdown",
   "metadata": {
    "slideshow": {
     "slide_type": "subslide"
    }
   },
   "source": [
    "## 使用 `.format()` 在文字中嵌入物件的數值時指定格式\n",
    "\n",
    "- `{:.0f}` 整數\n",
    "- `{:.2f}` 小數位數兩位的浮點數\n",
    "- `{:02}` 有兩個位數且補零的整數\n",
    "- `{:,}` 千分位逗點"
   ]
  },
  {
   "cell_type": "code",
   "execution_count": 10,
   "metadata": {
    "slideshow": {
     "slide_type": "subslide"
    }
   },
   "outputs": [
    {
     "name": "stdout",
     "output_type": "stream",
     "text": [
      "3\n",
      "3.14\n"
     ]
    }
   ],
   "source": [
    "pi = 3.14159\n",
    "print(\"{:.0f}\".format(pi))\n",
    "print(\"{:.2f}\".format(pi))"
   ]
  },
  {
   "cell_type": "code",
   "execution_count": 11,
   "metadata": {
    "slideshow": {
     "slide_type": "subslide"
    }
   },
   "outputs": [
    {
     "name": "stdout",
     "output_type": "stream",
     "text": [
      "The movie time of Avengers: Endgame is 03 hours and 01 minutes.\n"
     ]
    }
   ],
   "source": [
    "movie_title = \"Avengers: Endgame\"\n",
    "hours = 3\n",
    "mins = 1\n",
    "print(\"The movie time of {} is {:02} hours and {:02} minutes.\".format(movie_title, hours, mins))"
   ]
  },
  {
   "cell_type": "code",
   "execution_count": 12,
   "metadata": {
    "slideshow": {
     "slide_type": "subslide"
    }
   },
   "outputs": [
    {
     "name": "stdout",
     "output_type": "stream",
     "text": [
      "The box office of Avengers: Endgame on opening weekend, USA is $357,115,007,\n"
     ]
    }
   ],
   "source": [
    "box_office = 357115007 # Opening Weekend USA: $357,115,007\n",
    "print(\"The box office of {} on opening weekend, USA is ${:,},\".format(movie_title, box_office))"
   ]
  },
  {
   "cell_type": "markdown",
   "metadata": {
    "slideshow": {
     "slide_type": "slide"
    }
   },
   "source": [
    "## 布林"
   ]
  },
  {
   "cell_type": "markdown",
   "metadata": {
    "slideshow": {
     "slide_type": "subslide"
    }
   },
   "source": [
    "## 以 `True` 與 `False` 這兩個保留字獲得布林"
   ]
  },
  {
   "cell_type": "code",
   "execution_count": 13,
   "metadata": {},
   "outputs": [
    {
     "data": {
      "text/plain": [
       "bool"
      ]
     },
     "execution_count": 13,
     "metadata": {},
     "output_type": "execute_result"
    }
   ],
   "source": [
    "type(True)"
   ]
  },
  {
   "cell_type": "code",
   "execution_count": 14,
   "metadata": {},
   "outputs": [
    {
     "data": {
      "text/plain": [
       "bool"
      ]
     },
     "execution_count": 14,
     "metadata": {},
     "output_type": "execute_result"
    }
   ],
   "source": [
    "type(False)"
   ]
  },
  {
   "cell_type": "markdown",
   "metadata": {
    "slideshow": {
     "slide_type": "subslide"
    }
   },
   "source": [
    "## 我們需要布林來進行：\n",
    "\n",
    "- 條件判斷\n",
    "- `while` 迴圈\n",
    "- 資料篩選"
   ]
  },
  {
   "cell_type": "markdown",
   "metadata": {
    "slideshow": {
     "slide_type": "subslide"
    }
   },
   "source": [
    "## 除了直接寫 `True` 或 `False`，布林也可以透過下列方式產生\n",
    "\n",
    "- 比較符號\n",
    "- 布林運算符號"
   ]
  },
  {
   "cell_type": "markdown",
   "metadata": {
    "slideshow": {
     "slide_type": "subslide"
    }
   },
   "source": [
    "## 比較符號（Comparison Operators）\n",
    "\n",
    "- `==` 、 `!=` ：等於以及不等於\n",
    "- `>` 、 `>=` 、 `<` 、 `<=` ：大於、大於等於、小於以及小於等於"
   ]
  },
  {
   "cell_type": "code",
   "execution_count": 15,
   "metadata": {},
   "outputs": [
    {
     "data": {
      "text/plain": [
       "False"
      ]
     },
     "execution_count": 15,
     "metadata": {},
     "output_type": "execute_result"
    }
   ],
   "source": [
    "55 == 66"
   ]
  },
  {
   "cell_type": "markdown",
   "metadata": {
    "slideshow": {
     "slide_type": "subslide"
    }
   },
   "source": [
    "## 布林運算符號（Boolean Operators）\n",
    "\n",
    "- `not` ：非\n",
    "- `is` 、 `is not` ：是否為相同的值與類型\n",
    "- `and` 、 `or` ：交集與聯集"
   ]
  },
  {
   "cell_type": "markdown",
   "metadata": {
    "slideshow": {
     "slide_type": "slide"
    }
   },
   "source": [
    "## 空值"
   ]
  },
  {
   "cell_type": "markdown",
   "metadata": {
    "slideshow": {
     "slide_type": "subslide"
    }
   },
   "source": [
    "## 以 `None` 保留字可以獲得空值"
   ]
  },
  {
   "cell_type": "code",
   "execution_count": 16,
   "metadata": {},
   "outputs": [
    {
     "data": {
      "text/plain": [
       "NoneType"
      ]
     },
     "execution_count": 16,
     "metadata": {},
     "output_type": "execute_result"
    }
   ],
   "source": [
    "type(None)"
   ]
  },
  {
   "cell_type": "markdown",
   "metadata": {
    "slideshow": {
     "slide_type": "subslide"
    }
   },
   "source": [
    "## 空值可以用來代表一個「遺漏值」\n",
    "\n",
    "- 空值並不等於 0\n",
    "- 空值並不等於 False\n",
    "- 空值並不等於空文字 `''`"
   ]
  },
  {
   "cell_type": "code",
   "execution_count": 17,
   "metadata": {
    "slideshow": {
     "slide_type": "subslide"
    }
   },
   "outputs": [
    {
     "name": "stdout",
     "output_type": "stream",
     "text": [
      "False\n",
      "False\n",
      "False\n"
     ]
    }
   ],
   "source": [
    "print(None is 0)\n",
    "print(None is False)\n",
    "print(None is '')"
   ]
  },
  {
   "cell_type": "markdown",
   "metadata": {
    "slideshow": {
     "slide_type": "subslide"
    }
   },
   "source": [
    "## 空值是自成一格的類別"
   ]
  },
  {
   "cell_type": "code",
   "execution_count": 18,
   "metadata": {},
   "outputs": [
    {
     "name": "stdout",
     "output_type": "stream",
     "text": [
      "True\n",
      "True\n"
     ]
    }
   ],
   "source": [
    "print(None is None)\n",
    "print(None == None)"
   ]
  },
  {
   "cell_type": "markdown",
   "metadata": {
    "slideshow": {
     "slide_type": "subslide"
    }
   },
   "source": [
    "## 如果自訂函式沒有運用 `return` 將輸出拋回，就無法將函式結果宣告給物件，意即會獲得一個 `None`"
   ]
  },
  {
   "cell_type": "code",
   "execution_count": 19,
   "metadata": {
    "slideshow": {
     "slide_type": "subslide"
    }
   },
   "outputs": [
    {
     "data": {
      "text/plain": [
       "NoneType"
      ]
     },
     "execution_count": 19,
     "metadata": {},
     "output_type": "execute_result"
    }
   ],
   "source": [
    "def subtract(a, b):\n",
    "    ans = a - b\n",
    "\n",
    "subtract_ans = subtract(5, 6)\n",
    "type(subtract_ans)"
   ]
  },
  {
   "cell_type": "code",
   "execution_count": 20,
   "metadata": {
    "slideshow": {
     "slide_type": "subslide"
    }
   },
   "outputs": [
    {
     "data": {
      "text/plain": [
       "int"
      ]
     },
     "execution_count": 20,
     "metadata": {},
     "output_type": "execute_result"
    }
   ],
   "source": [
    "def subtract(a, b):\n",
    "    ans = a - b\n",
    "    return ans\n",
    "\n",
    "subtract_ans = subtract(5, 6)\n",
    "type(subtract_ans)"
   ]
  },
  {
   "cell_type": "markdown",
   "metadata": {
    "slideshow": {
     "slide_type": "slide"
    }
   },
   "source": [
    "## 資料型態轉換"
   ]
  },
  {
   "cell_type": "markdown",
   "metadata": {
    "slideshow": {
     "slide_type": "subslide"
    }
   },
   "source": [
    "## 使用與資料類別相同名稱的內建函式轉換\n",
    "\n",
    "- `int()`：轉換為整數類別\n",
    "- `float()`：轉換為浮點數類別\n",
    "- `str()`：轉換為文字類別\n",
    "- `bool()`：轉換為布林類別"
   ]
  },
  {
   "cell_type": "markdown",
   "metadata": {
    "slideshow": {
     "slide_type": "subslide"
    }
   },
   "source": [
    "## 資料型態轉換採取一種稱為「向上轉型」（Upcasting）的規則\n",
    "\n",
    "`bool` -> `int` -> `float` - > `str`"
   ]
  },
  {
   "cell_type": "markdown",
   "metadata": {
    "slideshow": {
     "slide_type": "subslide"
    }
   },
   "source": [
    "## 遵循「向上轉型」的方向可以保證轉型成功"
   ]
  },
  {
   "cell_type": "code",
   "execution_count": 21,
   "metadata": {},
   "outputs": [
    {
     "name": "stdout",
     "output_type": "stream",
     "text": [
      "0\n",
      "1\n"
     ]
    }
   ],
   "source": [
    "print(int(False))\n",
    "print(int(True))"
   ]
  },
  {
   "cell_type": "code",
   "execution_count": 22,
   "metadata": {
    "slideshow": {
     "slide_type": "subslide"
    }
   },
   "outputs": [
    {
     "name": "stdout",
     "output_type": "stream",
     "text": [
      "0.0\n",
      "1.0\n"
     ]
    }
   ],
   "source": [
    "print(float(0))\n",
    "print(float(1))"
   ]
  },
  {
   "cell_type": "code",
   "execution_count": 23,
   "metadata": {
    "slideshow": {
     "slide_type": "subslide"
    }
   },
   "outputs": [
    {
     "name": "stdout",
     "output_type": "stream",
     "text": [
      "0.0\n",
      "1.0\n"
     ]
    }
   ],
   "source": [
    "print(str(0.0))\n",
    "print(str(1.0))"
   ]
  },
  {
   "cell_type": "markdown",
   "metadata": {
    "slideshow": {
     "slide_type": "subslide"
    }
   },
   "source": [
    "## 推薦大家看 Harvard CS50 的 Lecture 0，對電腦如何儲存不同的資料型態會有更深入的暸解\n",
    "\n",
    "<https://youtu.be/jjqgP9dpD1k>"
   ]
  },
  {
   "cell_type": "markdown",
   "metadata": {
    "slideshow": {
     "slide_type": "slide"
    }
   },
   "source": [
    "## 隨堂練習"
   ]
  },
  {
   "cell_type": "markdown",
   "metadata": {
    "slideshow": {
     "slide_type": "subslide"
    }
   },
   "source": [
    "## 隨堂練習：定義一個函式 `what_ross_said()` 回傳這段文字\n",
    "\n",
    "```\n",
    "Let's put aside the fact that you \"accidentally\" pick up my grandmother's ring.\n",
    "```\n",
    "\n",
    "- 預期輸入：無\n",
    "- 預期輸出：一個文字"
   ]
  },
  {
   "cell_type": "code",
   "execution_count": 24,
   "metadata": {
    "slideshow": {
     "slide_type": "subslide"
    }
   },
   "outputs": [],
   "source": [
    "def what_ross_said():\n",
    "    \"\"\"\n",
    "    >>> what_ross_said() # The One Where Emma Cries, Episode 9.02, Friends\n",
    "    Let's put aside the fact that you \"accidentally\" pick up my grandmother's ring.\n",
    "    \"\"\""
   ]
  },
  {
   "cell_type": "markdown",
   "metadata": {
    "slideshow": {
     "slide_type": "subslide"
    }
   },
   "source": [
    "## 隨堂練習：定義一個函式 `hello_something(something)` 可以回傳這段文字\n",
    "\n",
    "```\n",
    "Hello, ＯＯＯ!\n",
    "```\n",
    "\n",
    "- 預期輸入：一個文字 `something`\n",
    "- 預期輸出：一個文字"
   ]
  },
  {
   "cell_type": "code",
   "execution_count": 25,
   "metadata": {
    "slideshow": {
     "slide_type": "subslide"
    }
   },
   "outputs": [],
   "source": [
    "def hello_something(something):\n",
    "    \"\"\"\n",
    "    >>> hello_something('world')\n",
    "    'Hello, world!'\n",
    "    >>> hello_something('Earth')\n",
    "    'Hello, Earth!'\n",
    "    \"\"\""
   ]
  },
  {
   "cell_type": "markdown",
   "metadata": {
    "slideshow": {
     "slide_type": "subslide"
    }
   },
   "source": [
    "## 隨堂練習：定義一個函式 `is_odd(x)` 回傳 `x` 是否為一個奇數，若是奇數回傳 `True` 否則回傳`False`\n",
    "\n",
    "- 預期輸入：一個整數 `x`\n",
    "- 預期輸出：一個布林"
   ]
  },
  {
   "cell_type": "code",
   "execution_count": 26,
   "metadata": {
    "slideshow": {
     "slide_type": "subslide"
    }
   },
   "outputs": [],
   "source": [
    "def is_odd(x):\n",
    "    \"\"\"\n",
    "    >>> is_odd(0)\n",
    "    False\n",
    "    >>> is_odd(1)\n",
    "    True\n",
    "    >>> is_odd(2)\n",
    "    False\n",
    "    >>> is_odd(3)\n",
    "    True\n",
    "    \"\"\""
   ]
  },
  {
   "cell_type": "markdown",
   "metadata": {
    "slideshow": {
     "slide_type": "subslide"
    }
   },
   "source": [
    "## 隨堂練習：定義一個函式 `last_digit_is_odd(id_str)` 判斷身分證字號尾數是否為一個奇數，若是奇數回傳 `True` 否則回傳`False`\n",
    "\n",
    "- 預期輸入：一個文字 `id_str`\n",
    "- 預期輸出：一個布林\n",
    "\n",
    "備註：使用 `id_str[-1]` 可以取出 `id_str` 最末端的文字"
   ]
  },
  {
   "cell_type": "code",
   "execution_count": 27,
   "metadata": {
    "slideshow": {
     "slide_type": "subslide"
    }
   },
   "outputs": [],
   "source": [
    "def last_digit_is_odd(id_str):\n",
    "    \"\"\"\n",
    "    >>> last_digit_is_odd('A123456789')\n",
    "    True\n",
    "    >>> last_digit_is_odd('A123456780')\n",
    "    False\n",
    "    \"\"\""
   ]
  },
  {
   "cell_type": "markdown",
   "metadata": {
    "slideshow": {
     "slide_type": "subslide"
    }
   },
   "source": [
    "## 隨堂練習：定義一個函式 `is_overweight(height, weight)` 可以依據身高（公分）與體重（公斤）判斷是否符合 BMI 定義的過重（BMI > 30 則判定為過重）\n",
    "\n",
    "\\begin{equation}\n",
    "BMI = \\frac{weight_{kg}}{height_{m}^2}\n",
    "\\end{equation}\n",
    "\n",
    "- 預期輸入：兩個數值 `height` 與 `weight`\n",
    "- 預期輸出：一個布林"
   ]
  },
  {
   "cell_type": "code",
   "execution_count": 28,
   "metadata": {
    "slideshow": {
     "slide_type": "subslide"
    }
   },
   "outputs": [],
   "source": [
    "def is_overweight(height, weight):\n",
    "    \"\"\"\n",
    "    >>> is_overweight(198, 129) # Zion Williamson\n",
    "    True\n",
    "    >>> is_overweight(198, 98)  # Michael Jordan\n",
    "    False\n",
    "    \"\"\""
   ]
  },
  {
   "cell_type": "markdown",
   "metadata": {
    "slideshow": {
     "slide_type": "subslide"
    }
   },
   "source": [
    "## 執行測試"
   ]
  },
  {
   "cell_type": "code",
   "execution_count": null,
   "metadata": {
    "slideshow": {
     "slide_type": "-"
    }
   },
   "outputs": [],
   "source": [
    "%load ../test_cases/test_cases_03.py"
   ]
  }
 ],
 "metadata": {
  "celltoolbar": "Slideshow",
  "kernelspec": {
   "display_name": "Python 3",
   "language": "python",
   "name": "python3"
  },
  "language_info": {
   "codemirror_mode": {
    "name": "ipython",
    "version": 3
   },
   "file_extension": ".py",
   "mimetype": "text/x-python",
   "name": "python",
   "nbconvert_exporter": "python",
   "pygments_lexer": "ipython3",
   "version": "3.6.8"
  }
 },
 "nbformat": 4,
 "nbformat_minor": 1
}
