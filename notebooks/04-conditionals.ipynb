{
 "cells": [
  {
   "cell_type": "markdown",
   "metadata": {
    "slideshow": {
     "slide_type": "slide"
    }
   },
   "source": [
    "# 鍛鍊你的資料分析力 | Python 程式設計\n",
    "\n",
    "> 條件判斷\n",
    "\n",
    "郭耀仁 <yaojenkuo@datainpoint.com> from [DATAINPOINT](https://www.datainpoint.com/)"
   ]
  },
  {
   "cell_type": "markdown",
   "metadata": {
    "slideshow": {
     "slide_type": "subslide"
    }
   },
   "source": [
    "> Simple is better than complex.\n",
    ">\n",
    "> The Zen of Python"
   ]
  },
  {
   "cell_type": "markdown",
   "metadata": {
    "slideshow": {
     "slide_type": "subslide"
    }
   },
   "source": [
    "## 大綱\n",
    "\n",
    "- `if` 判斷\n",
    "- `else` 判斷\n",
    "- `elif` 判斷"
   ]
  },
  {
   "cell_type": "markdown",
   "metadata": {
    "slideshow": {
     "slide_type": "slide"
    }
   },
   "source": [
    "## `if` 判斷"
   ]
  },
  {
   "cell_type": "markdown",
   "metadata": {
    "slideshow": {
     "slide_type": "subslide"
    }
   },
   "source": [
    "## 我們需要布林來進行：\n",
    "\n",
    "- **條件判斷**\n",
    "- `while` 迴圈\n",
    "- 資料篩選"
   ]
  },
  {
   "cell_type": "markdown",
   "metadata": {
    "slideshow": {
     "slide_type": "subslide"
    }
   },
   "source": [
    "## `if` 判斷的程式碼結構\n",
    "\n",
    "```python\n",
    "if EXPR:\n",
    "    # EXPR 被評估為 True 時候才執行縮排的程式碼\n",
    "```"
   ]
  },
  {
   "cell_type": "markdown",
   "metadata": {
    "slideshow": {
     "slide_type": "subslide"
    }
   },
   "source": [
    "## 評分超過門檻值 `threshold` 就推薦是好看的電影"
   ]
  },
  {
   "cell_type": "code",
   "execution_count": 1,
   "metadata": {
    "slideshow": {
     "slide_type": "subslide"
    }
   },
   "outputs": [
    {
     "name": "stdout",
     "output_type": "stream",
     "text": [
      "Avengers: Endgame 的 IMDB 評分為 8.4 分，是一部好看的電影！\n"
     ]
    }
   ],
   "source": [
    "movie_title = \"Avengers: Endgame\"\n",
    "movie_rating = 8.4\n",
    "threshold = 6.5\n",
    "\n",
    "if movie_rating > threshold:\n",
    "    print(\"{} 的 IMDB 評分為 {} 分，是一部好看的電影！\".format(movie_title, movie_rating))"
   ]
  },
  {
   "cell_type": "code",
   "execution_count": 2,
   "metadata": {
    "slideshow": {
     "slide_type": "subslide"
    }
   },
   "outputs": [],
   "source": [
    "movie_title = \"The Meg\"\n",
    "movie_rating = 5.6\n",
    "threshold = 6.5\n",
    "\n",
    "if movie_rating > threshold:\n",
    "    print(\"{} 的 IMDB 評分為 {} 分，是一部好看的電影！\".format(movie_title, movie_rating))"
   ]
  },
  {
   "cell_type": "markdown",
   "metadata": {
    "slideshow": {
     "slide_type": "subslide"
    }
   },
   "source": [
    "## 評分超過門檻值 `threshold` 就推薦是好看的電影，小於等於門檻值則警告是不好看的電影\n",
    "\n",
    "使用兩個 `if` 判斷。"
   ]
  },
  {
   "cell_type": "code",
   "execution_count": 3,
   "metadata": {
    "slideshow": {
     "slide_type": "subslide"
    }
   },
   "outputs": [
    {
     "name": "stdout",
     "output_type": "stream",
     "text": [
      "The Meg 的 IMDB 評分為 5.6 分，是一部不好看的電影！\n"
     ]
    }
   ],
   "source": [
    "movie_title = \"The Meg\"\n",
    "movie_rating = 5.6\n",
    "threshold = 6.5\n",
    "\n",
    "if movie_rating > threshold:\n",
    "    print(\"{} 的 IMDB 評分為 {} 分，是一部好看的電影！\".format(movie_title, movie_rating))\n",
    "if movie_rating <= threshold:\n",
    "    print(\"{} 的 IMDB 評分為 {} 分，是一部不好看的電影！\".format(movie_title, movie_rating))"
   ]
  },
  {
   "cell_type": "markdown",
   "metadata": {
    "slideshow": {
     "slide_type": "slide"
    }
   },
   "source": [
    "## `else` 判斷"
   ]
  },
  {
   "cell_type": "markdown",
   "metadata": {
    "slideshow": {
     "slide_type": "subslide"
    }
   },
   "source": [
    "## `else` 判斷的程式碼結構\n",
    "\n",
    "```python\n",
    "if EXPR:\n",
    "    # EXPR 被評估為 True 時候才執行縮排的程式碼\n",
    "else:\n",
    "    # EXPR 被評估為 False 時候才執行縮排的程式碼\n",
    "```"
   ]
  },
  {
   "cell_type": "markdown",
   "metadata": {
    "slideshow": {
     "slide_type": "subslide"
    }
   },
   "source": [
    "## 評分超過門檻值 `threshold` 就推薦是好看的電影，小於等於門檻值則警告是不好看的電影\n",
    "\n",
    "使用一組 `if...else...` 判斷。"
   ]
  },
  {
   "cell_type": "code",
   "execution_count": 4,
   "metadata": {
    "slideshow": {
     "slide_type": "subslide"
    }
   },
   "outputs": [
    {
     "name": "stdout",
     "output_type": "stream",
     "text": [
      "The Meg 的 IMDB 評分為 5.6 分，是一部不好看的電影！\n"
     ]
    }
   ],
   "source": [
    "movie_title = \"The Meg\"\n",
    "movie_rating = 5.6\n",
    "threshold = 6.5\n",
    "\n",
    "if movie_rating > threshold:\n",
    "    print(\"{} 的 IMDB 評分為 {} 分，是一部好看的電影！\".format(movie_title, movie_rating))\n",
    "else:\n",
    "    print(\"{} 的 IMDB 評分為 {} 分，是一部不好看的電影！\".format(movie_title, movie_rating))"
   ]
  },
  {
   "cell_type": "markdown",
   "metadata": {
    "slideshow": {
     "slide_type": "slide"
    }
   },
   "source": [
    "## `elif` 判斷"
   ]
  },
  {
   "cell_type": "markdown",
   "metadata": {
    "slideshow": {
     "slide_type": "subslide"
    }
   },
   "source": [
    "## `elif` 判斷的程式碼結構\n",
    "\n",
    "```python\n",
    "if EXPR_1:\n",
    "    # EXPR_1 被評估為 True 時候才執行縮排的程式碼\n",
    "elif EXPR_2:\n",
    "    # EXPR_1 被評估為 False 而且 EXPR_2 被評估為 True 時候才執行縮排的程式碼\n",
    "elif EXPR_3:\n",
    "    # EXPR_1 被評估為 False、EXPR_2 被評估為 False 並且 EXPR_3 被評估為 True 時候才執行縮排的程式碼\n",
    "# ...\n",
    "# 可以插入多個 elif\n",
    "# ...\n",
    "else:\n",
    "    # EXPR_1、EXPR_2 與 EXPR_3 均被評估為 False 時候才執行縮排的程式碼\n",
    "```"
   ]
  },
  {
   "cell_type": "markdown",
   "metadata": {
    "slideshow": {
     "slide_type": "subslide"
    }
   },
   "source": [
    "## 將 `BMI` 對應為敘述\n",
    "\n",
    "<https://en.wikipedia.org/wiki/Body_mass_index#/media/File:BMI_chart.svg>\n",
    "\n",
    "使用四個 `if` 判斷。"
   ]
  },
  {
   "cell_type": "code",
   "execution_count": 5,
   "metadata": {
    "slideshow": {
     "slide_type": "subslide"
    }
   },
   "outputs": [
    {
     "name": "stdout",
     "output_type": "stream",
     "text": [
      "BMI 31 的敘述為 Obese\n"
     ]
    }
   ],
   "source": [
    "bmi = 31\n",
    "if bmi > 30:\n",
    "    desc = 'Obese'\n",
    "    print(\"BMI {} 的敘述為 {}\".format(bmi, desc))\n",
    "if bmi > 25 and bmi <=30:\n",
    "    desc = 'Overweight'\n",
    "    print(\"BMI {} 的敘述為 {}\".format(bmi, desc))\n",
    "if bmi >= 18.5 and bmi <= 25:\n",
    "    desc = 'Normal weight'\n",
    "    print(\"BMI {} 的敘述為 {}\".format(bmi, desc))\n",
    "if bmi < 18.5:\n",
    "    desc = 'Underweight'\n",
    "    print(\"BMI {} 的敘述為 {}\".format(bmi, desc))"
   ]
  },
  {
   "cell_type": "markdown",
   "metadata": {
    "slideshow": {
     "slide_type": "subslide"
    }
   },
   "source": [
    "## 將 `BMI` 對應為敘述\n",
    "\n",
    "<https://en.wikipedia.org/wiki/Body_mass_index#/media/File:BMI_chart.svg>\n",
    "\n",
    "使用一組 `if...elif...else` 判斷。"
   ]
  },
  {
   "cell_type": "code",
   "execution_count": 6,
   "metadata": {
    "slideshow": {
     "slide_type": "subslide"
    }
   },
   "outputs": [
    {
     "name": "stdout",
     "output_type": "stream",
     "text": [
      "BMI 31 的敘述為 Obese\n"
     ]
    }
   ],
   "source": [
    "bmi = 31\n",
    "if bmi > 30:\n",
    "    desc = 'Obese'\n",
    "    print(\"BMI {} 的敘述為 {}\".format(bmi, desc))\n",
    "elif bmi > 25:\n",
    "    desc = 'Overweight'\n",
    "    print(\"BMI {} 的敘述為 {}\".format(bmi, desc))\n",
    "elif bmi >= 18.5:\n",
    "    desc = 'Normal weight'\n",
    "    print(\"BMI {} 的敘述為 {}\".format(bmi, desc))\n",
    "else:\n",
    "    desc = 'Underweight'\n",
    "    print(\"BMI {} 的敘述為 {}\".format(bmi, desc))"
   ]
  },
  {
   "cell_type": "markdown",
   "metadata": {
    "slideshow": {
     "slide_type": "subslide"
    }
   },
   "source": [
    "## 當一組 `if...elif...else` 判斷中有重疊的條件，執行先寫的分支程式碼"
   ]
  },
  {
   "cell_type": "markdown",
   "metadata": {
    "slideshow": {
     "slide_type": "slide"
    }
   },
   "source": [
    "## 隨堂練習"
   ]
  },
  {
   "cell_type": "markdown",
   "metadata": {
    "slideshow": {
     "slide_type": "subslide"
    }
   },
   "source": [
    "## 隨堂練習：定義一個函式 `odd_or_even(x)` 如果 `x` 是奇數回傳 `'odd'` 是偶數則回傳 `'even'`\n",
    "\n",
    "- 預期輸入：一個整數 `x`\n",
    "- 預期輸出：一個文字"
   ]
  },
  {
   "cell_type": "code",
   "execution_count": 7,
   "metadata": {
    "slideshow": {
     "slide_type": "subslide"
    }
   },
   "outputs": [],
   "source": [
    "def odd_or_even(x):\n",
    "    \"\"\"\n",
    "    >>> odd_or_even(0)\n",
    "    'even'\n",
    "    >>> odd_or_even(1)\n",
    "    'odd'\n",
    "    >>> odd_or_even(2)\n",
    "    'even'\n",
    "    >>> odd_or_even(3)\n",
    "    'odd'\n",
    "    \"\"\""
   ]
  },
  {
   "cell_type": "markdown",
   "metadata": {
    "slideshow": {
     "slide_type": "subslide"
    }
   },
   "source": [
    "## 隨堂練習：定義一個函式 `absolute(x)` 如果 `x` 小於 0 回傳 `-x`，否則回傳 `x`\n",
    "\n",
    "- 預期輸入：一個整數 `x`\n",
    "- 預期輸出：一個整數"
   ]
  },
  {
   "cell_type": "code",
   "execution_count": 8,
   "metadata": {
    "slideshow": {
     "slide_type": "subslide"
    }
   },
   "outputs": [],
   "source": [
    "def absolute(x):\n",
    "    \"\"\"\n",
    "    >>> absolute(-5)\n",
    "    5\n",
    "    >>> absolute(-6)\n",
    "    6\n",
    "    >>> absolute(0)\n",
    "    0\n",
    "    >>> absolute(56)\n",
    "    56\n",
    "    \"\"\""
   ]
  },
  {
   "cell_type": "markdown",
   "metadata": {
    "slideshow": {
     "slide_type": "subslide"
    }
   },
   "source": [
    "## 隨堂練習：定義一個函式 `step(z)` 如果 `z` 大於等於 0.5 回傳 `1`，否則回傳 `0`\n",
    "\n",
    "- 預期輸入：一個浮點數 `z`\n",
    "- 預期輸出：一個整數"
   ]
  },
  {
   "cell_type": "code",
   "execution_count": 9,
   "metadata": {
    "slideshow": {
     "slide_type": "subslide"
    }
   },
   "outputs": [],
   "source": [
    "def step(z):\n",
    "    \"\"\"\n",
    "    >>> step(0.1)\n",
    "    0\n",
    "    >>> step(0.4)\n",
    "    0\n",
    "    >>> step(0.5)\n",
    "    1\n",
    "    >>> step(0.9)\n",
    "    1\n",
    "    \"\"\""
   ]
  },
  {
   "cell_type": "markdown",
   "metadata": {
    "slideshow": {
     "slide_type": "subslide"
    }
   },
   "source": [
    "## 隨堂練習：定義一個函式 `bmi_condition(height, weight)` 依據身高（公分）與體重（公斤）判斷 BMI 的分類敘述\n",
    "\n",
    "\\begin{equation}\n",
    "BMI = \\frac{weight_{kg}}{height_{m}^2}\n",
    "\\end{equation}\n",
    "\n",
    "<https://en.wikipedia.org/wiki/Body_mass_index#/media/File:BMI_chart.svg>\n",
    "\n",
    "- 預期輸入：兩個數值 `height` 與 `weight`\n",
    "- 預期輸出：一個文字"
   ]
  },
  {
   "cell_type": "code",
   "execution_count": 10,
   "metadata": {
    "slideshow": {
     "slide_type": "subslide"
    }
   },
   "outputs": [],
   "source": [
    "def bmi_condition(height, weight):\n",
    "    \"\"\"\n",
    "    >>> bmi_condition(198, 129) # Zion Williamson\n",
    "    '身高 198 公分體重 129 公斤是 Obese'\n",
    "    >>> bmi_condition(206, 113) # LeBron James\n",
    "    '身高 206 公分體重 113 公斤是 Overweight'\n",
    "    >>> bmi_condition(198, 98)  # Michael Jordan\n",
    "    '身高 198 公分體重 98 公斤是 Normal weight'\n",
    "    \"\"\""
   ]
  },
  {
   "cell_type": "markdown",
   "metadata": {
    "slideshow": {
     "slide_type": "subslide"
    }
   },
   "source": [
    "## 隨堂練習：定義一個函式 `fizz_buzz(x)`，當 `x` 是 3 的倍數時回傳 `Fizz`、是 5 的倍數時回傳 `Buzz`、是 15 的倍數時回傳 `Fizz Buzz`，否則回傳 `x`，條件重疊時以 15 的倍數優先判斷\n",
    "\n",
    "- 預期輸入：一個正整數 `x`\n",
    "- 預期輸出：一個文字或一個整數"
   ]
  },
  {
   "cell_type": "code",
   "execution_count": 11,
   "metadata": {
    "slideshow": {
     "slide_type": "subslide"
    }
   },
   "outputs": [],
   "source": [
    "def fizz_buzz(x):\n",
    "    \"\"\"\n",
    "    >>> fizz_buzz(3)\n",
    "    'Fizz'\n",
    "    >>> fizz_buzz(5)\n",
    "    'Buzz'\n",
    "    >>> fizz_buzz(15)\n",
    "    'Fizz Buzz'\n",
    "    >>> fizz_buzz(16)\n",
    "    16\n",
    "    \"\"\""
   ]
  },
  {
   "cell_type": "markdown",
   "metadata": {
    "slideshow": {
     "slide_type": "subslide"
    }
   },
   "source": [
    "## 執行測試"
   ]
  },
  {
   "cell_type": "code",
   "execution_count": null,
   "metadata": {
    "slideshow": {
     "slide_type": "-"
    }
   },
   "outputs": [],
   "source": [
    "%load ../test_cases/test_cases_04.py"
   ]
  }
 ],
 "metadata": {
  "celltoolbar": "Slideshow",
  "kernelspec": {
   "display_name": "Python 3",
   "language": "python",
   "name": "python3"
  },
  "language_info": {
   "codemirror_mode": {
    "name": "ipython",
    "version": 3
   },
   "file_extension": ".py",
   "mimetype": "text/x-python",
   "name": "python",
   "nbconvert_exporter": "python",
   "pygments_lexer": "ipython3",
   "version": "3.6.8"
  }
 },
 "nbformat": 4,
 "nbformat_minor": 1
}
