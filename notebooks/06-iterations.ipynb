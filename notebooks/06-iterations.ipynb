{
 "cells": [
  {
   "cell_type": "markdown",
   "metadata": {
    "slideshow": {
     "slide_type": "slide"
    }
   },
   "source": [
    "# 鍛鍊你的資料分析力 | Python 程式設計\n",
    "\n",
    "> 迭代\n",
    "\n",
    "郭耀仁 <yaojenkuo@datainpoint.com> from [DATAINPOINT](https://www.datainpoint.com/)"
   ]
  },
  {
   "cell_type": "markdown",
   "metadata": {
    "slideshow": {
     "slide_type": "subslide"
    }
   },
   "source": [
    "> When you’ve given the same in-person advice 3 times, write a blog post.\n",
    ">\n",
    "> David Robinson"
   ]
  },
  {
   "cell_type": "markdown",
   "metadata": {
    "slideshow": {
     "slide_type": "subslide"
    }
   },
   "source": [
    "## 大綱\n",
    "\n",
    "- `while` 迴圈\n",
    "- `for` 迴圈\n",
    "- List comprehension\n",
    "- 何時用 `for`？何時用 `while`？"
   ]
  },
  {
   "cell_type": "markdown",
   "metadata": {
    "slideshow": {
     "slide_type": "subslide"
    }
   },
   "source": [
    "## 什麼是迭代\n",
    "\n",
    "> 能夠讓一段程式碼反覆執行的敘述，常見的應用是將儲存在資料結構中的每一個資料值都取出來進行加值運算，迭代的敘述必須包含三個元件：開始（start）、結束（stop）與間距（step），與 `list` 的切割語法相當類似，常見的迭代有 `while` 迴圈與 `for` 迴圈。"
   ]
  },
  {
   "cell_type": "markdown",
   "metadata": {
    "slideshow": {
     "slide_type": "subslide"
    }
   },
   "source": [
    "## 迭代是用來解決需要反覆執行、大量手動複製貼上程式碼的任務"
   ]
  },
  {
   "cell_type": "markdown",
   "metadata": {
    "slideshow": {
     "slide_type": "subslide"
    }
   },
   "source": [
    "## 迭代三要素\n",
    "\n",
    "- 開始 `start`，反覆執行的任務要從哪裡出發？\n",
    "- 停止 `stop`，反覆執行的任務到何時可以結束？\n",
    "- 間距 `step`，反覆執行的任務每一輪的間隔是多少？"
   ]
  },
  {
   "cell_type": "markdown",
   "metadata": {
    "slideshow": {
     "slide_type": "subslide"
    }
   },
   "source": [
    "## 假如我們希望可以印出介於 1 到 100 之間的偶數"
   ]
  },
  {
   "cell_type": "code",
   "execution_count": 1,
   "metadata": {
    "slideshow": {
     "slide_type": "-"
    }
   },
   "outputs": [],
   "source": [
    "print(2)\n",
    "print(4)\n",
    "#...\n",
    "print(100)"
   ]
  },
  {
   "cell_type": "markdown",
   "metadata": {
    "slideshow": {
     "slide_type": "subslide"
    }
   },
   "source": [
    "## 請印出介於 1 到 100 之間的偶數：迭代三要素\n",
    "\n",
    "- 開始 `start`，2\n",
    "- 停止 `stop`，100\n",
    "- 間距 `step`，2"
   ]
  },
  {
   "cell_type": "markdown",
   "metadata": {
    "slideshow": {
     "slide_type": "subslide"
    }
   },
   "source": [
    "## 假如我們希望可以判斷一個正整數是否為質數\n",
    "\n",
    "- 對一個正整數 `n` 進行「因數分解」\n",
    "- 將 1 至 `n` 每個整數都試著去除 `n` 來判斷是否為因數\n",
    "- 若只有 2 個因數為質數"
   ]
  },
  {
   "cell_type": "markdown",
   "metadata": {
    "slideshow": {
     "slide_type": "subslide"
    }
   },
   "source": [
    "## 請判斷一個正整數是否為質數：迭代三要素\n",
    "\n",
    "- 開始 `start`，1\n",
    "- 停止 `stop`，n\n",
    "- 間距 `step`，1"
   ]
  },
  {
   "cell_type": "markdown",
   "metadata": {
    "slideshow": {
     "slide_type": "subslide"
    }
   },
   "source": [
    "## 來到迭代是一個分水嶺，可以運用視覺化工具協助我們學習，例如 <http://pythontutor.com/visualize.html#mode=edit>"
   ]
  },
  {
   "cell_type": "markdown",
   "metadata": {
    "slideshow": {
     "slide_type": "slide"
    }
   },
   "source": [
    "## `while` 迴圈"
   ]
  },
  {
   "cell_type": "markdown",
   "metadata": {
    "slideshow": {
     "slide_type": "subslide"
    }
   },
   "source": [
    "## 我們需要布林來進行：\n",
    "\n",
    "- 條件判斷\n",
    "- **`while` 迴圈**\n",
    "- 資料篩選"
   ]
  },
  {
   "cell_type": "markdown",
   "metadata": {
    "slideshow": {
     "slide_type": "subslide"
    }
   },
   "source": [
    "## `while` 迴圈的程式碼結構\n",
    "\n",
    "- 開始 `start`\n",
    "- `while` 保留字\n",
    "- 結束 `stop`\n",
    "- 反覆執行的任務\n",
    "- 間距 `step`"
   ]
  },
  {
   "cell_type": "markdown",
   "metadata": {
    "slideshow": {
     "slide_type": "subslide"
    }
   },
   "source": [
    "```python\n",
    "i = 0 # 開始 start\n",
    "while EXPR: # 結束 stop，當 EXPR 被評估為 False 的時候結束\n",
    "    # 反覆執行的任務\n",
    "    i += 1 # 間距 step\n",
    "```"
   ]
  },
  {
   "cell_type": "markdown",
   "metadata": {
    "slideshow": {
     "slide_type": "subslide"
    }
   },
   "source": [
    "## 常見的迭代任務\n",
    "\n",
    "- `print()`\n",
    "- 計數（Counter）\n",
    "- 加總（Summation）\n",
    "- 合併（Append）"
   ]
  },
  {
   "cell_type": "markdown",
   "metadata": {
    "slideshow": {
     "slide_type": "subslide"
    }
   },
   "source": [
    "## 印出介於 1 到 100 之間的偶數"
   ]
  },
  {
   "cell_type": "code",
   "execution_count": 2,
   "metadata": {},
   "outputs": [
    {
     "name": "stdout",
     "output_type": "stream",
     "text": [
      "2\n",
      "4\n",
      "6\n",
      "8\n",
      "10\n",
      "12\n",
      "14\n",
      "16\n",
      "18\n",
      "20\n",
      "22\n",
      "24\n",
      "26\n",
      "28\n",
      "30\n",
      "32\n",
      "34\n",
      "36\n",
      "38\n",
      "40\n",
      "42\n",
      "44\n",
      "46\n",
      "48\n",
      "50\n",
      "52\n",
      "54\n",
      "56\n",
      "58\n",
      "60\n",
      "62\n",
      "64\n",
      "66\n",
      "68\n",
      "70\n",
      "72\n",
      "74\n",
      "76\n",
      "78\n",
      "80\n",
      "82\n",
      "84\n",
      "86\n",
      "88\n",
      "90\n",
      "92\n",
      "94\n",
      "96\n",
      "98\n",
      "100\n"
     ]
    }
   ],
   "source": [
    "# print()\n",
    "num = 2 # 開始 start\n",
    "while num <= 100: # 結束 stop\n",
    "    print(num) # 反覆執行的任務\n",
    "    num += 2 # 間距 step"
   ]
  },
  {
   "cell_type": "markdown",
   "metadata": {
    "slideshow": {
     "slide_type": "subslide"
    }
   },
   "source": [
    "## 介於 1 到 100 之間的偶數有幾個"
   ]
  },
  {
   "cell_type": "code",
   "execution_count": 3,
   "metadata": {},
   "outputs": [
    {
     "data": {
      "text/plain": [
       "50"
      ]
     },
     "execution_count": 3,
     "metadata": {},
     "output_type": "execute_result"
    }
   ],
   "source": [
    "# 計數\n",
    "even_counter = 0\n",
    "num = 2 # 開始 start\n",
    "while num <= 100: # 結束 stop\n",
    "    even_counter += 1 # 反覆執行的任務\n",
    "    num += 2 # 間距 step\n",
    "even_counter"
   ]
  },
  {
   "cell_type": "markdown",
   "metadata": {
    "slideshow": {
     "slide_type": "subslide"
    }
   },
   "source": [
    "## 介於 1 到 100 之間的偶數加總為何"
   ]
  },
  {
   "cell_type": "code",
   "execution_count": 4,
   "metadata": {},
   "outputs": [
    {
     "data": {
      "text/plain": [
       "2550"
      ]
     },
     "execution_count": 4,
     "metadata": {},
     "output_type": "execute_result"
    }
   ],
   "source": [
    "# 加總\n",
    "even_summation = 0\n",
    "num = 2 # 開始 start\n",
    "while num <= 100: # 結束 stop\n",
    "    even_summation += num # 反覆執行的任務\n",
    "    num += 2 # 間距 step\n",
    "even_summation"
   ]
  },
  {
   "cell_type": "markdown",
   "metadata": {
    "slideshow": {
     "slide_type": "subslide"
    }
   },
   "source": [
    "## 介於 1 到 100 之間的偶數是哪些"
   ]
  },
  {
   "cell_type": "code",
   "execution_count": 5,
   "metadata": {},
   "outputs": [
    {
     "name": "stdout",
     "output_type": "stream",
     "text": [
      "[2, 4, 6, 8, 10, 12, 14, 16, 18, 20, 22, 24, 26, 28, 30, 32, 34, 36, 38, 40, 42, 44, 46, 48, 50, 52, 54, 56, 58, 60, 62, 64, 66, 68, 70, 72, 74, 76, 78, 80, 82, 84, 86, 88, 90, 92, 94, 96, 98, 100]\n"
     ]
    }
   ],
   "source": [
    "# 合併\n",
    "even_numbers = list()\n",
    "num = 2 # 開始 start\n",
    "while num <= 100: # 結束 stop\n",
    "    even_numbers.append(num) # 反覆執行的任務\n",
    "    num += 2 # 間距 step\n",
    "print(even_numbers)"
   ]
  },
  {
   "cell_type": "markdown",
   "metadata": {
    "slideshow": {
     "slide_type": "subslide"
    }
   },
   "source": [
    "## 判斷質數\n",
    "\n",
    "在大於 1 的正整數中，除了 1 和該數自身外，無法被其他正整數整除的數字。"
   ]
  },
  {
   "cell_type": "code",
   "execution_count": 6,
   "metadata": {
    "slideshow": {
     "slide_type": "subslide"
    }
   },
   "outputs": [],
   "source": [
    "def is_prime(x):\n",
    "    i = 1\n",
    "    divisor_cnts = 0\n",
    "    while i <= x:\n",
    "        if x % i == 0:\n",
    "            divisor_cnts += 1\n",
    "        i += 1\n",
    "    if divisor_cnts == 2:\n",
    "        return \"{} 是質數\".format(x)\n",
    "    else:\n",
    "        return \"{} 不是質數\".format(x)"
   ]
  },
  {
   "cell_type": "markdown",
   "metadata": {
    "slideshow": {
     "slide_type": "slide"
    }
   },
   "source": [
    "## `for` 迴圈"
   ]
  },
  {
   "cell_type": "markdown",
   "metadata": {
    "slideshow": {
     "slide_type": "subslide"
    }
   },
   "source": [
    "## `for` 迴圈的程式碼結構\n",
    "\n",
    "- `for` 保留字\n",
    "- 迭代子名稱 `ITERATOR`\n",
    "- `in` 保留字\n",
    "- 可迭代物件 `ITERABLE`\n",
    "- 反覆執行的任務"
   ]
  },
  {
   "cell_type": "markdown",
   "metadata": {
    "slideshow": {
     "slide_type": "subslide"
    }
   },
   "source": [
    "```python\n",
    "for ITERATOR in ITERABLE:\n",
    "    # 反覆執行的任務\n",
    "```"
   ]
  },
  {
   "cell_type": "markdown",
   "metadata": {
    "slideshow": {
     "slide_type": "subslide"
    }
   },
   "source": [
    "## 我們說過的迭代三要素：`start`、`stop`、`step` 去哪裡了呢？\n",
    "\n",
    "在可迭代物件中就具備了三要素：\n",
    "- `start`：可迭代物件中的第 0 項\n",
    "- `stop`：可迭代物件中的第 -1 項\n",
    "- `step`：可迭代物件中每個物件的間距"
   ]
  },
  {
   "cell_type": "markdown",
   "metadata": {
    "slideshow": {
     "slide_type": "subslide"
    }
   },
   "source": [
    "## 什麼是可迭代物件（iterables）\n",
    "\n",
    "目前已經認識的可迭代物件有：\n",
    "\n",
    "- `list`\n",
    "- `tuple`\n",
    "- `dict`\n",
    "- `set`\n",
    "- `str`"
   ]
  },
  {
   "cell_type": "markdown",
   "metadata": {
    "slideshow": {
     "slide_type": "subslide"
    }
   },
   "source": [
    "## 印出介於 1 到 100 之間的偶數\n",
    "\n",
    "該去哪裡找出可迭代物件？"
   ]
  },
  {
   "cell_type": "code",
   "execution_count": 7,
   "metadata": {
    "slideshow": {
     "slide_type": "subslide"
    }
   },
   "outputs": [
    {
     "name": "stdout",
     "output_type": "stream",
     "text": [
      "Help on class range in module builtins:\n",
      "\n",
      "class range(object)\n",
      " |  range(stop) -> range object\n",
      " |  range(start, stop[, step]) -> range object\n",
      " |  \n",
      " |  Return an object that produces a sequence of integers from start (inclusive)\n",
      " |  to stop (exclusive) by step.  range(i, j) produces i, i+1, i+2, ..., j-1.\n",
      " |  start defaults to 0, and stop is omitted!  range(4) produces 0, 1, 2, 3.\n",
      " |  These are exactly the valid indices for a list of 4 elements.\n",
      " |  When step is given, it specifies the increment (or decrement).\n",
      " |  \n",
      " |  Methods defined here:\n",
      " |  \n",
      " |  __bool__(self, /)\n",
      " |      self != 0\n",
      " |  \n",
      " |  __contains__(self, key, /)\n",
      " |      Return key in self.\n",
      " |  \n",
      " |  __eq__(self, value, /)\n",
      " |      Return self==value.\n",
      " |  \n",
      " |  __ge__(self, value, /)\n",
      " |      Return self>=value.\n",
      " |  \n",
      " |  __getattribute__(self, name, /)\n",
      " |      Return getattr(self, name).\n",
      " |  \n",
      " |  __getitem__(self, key, /)\n",
      " |      Return self[key].\n",
      " |  \n",
      " |  __gt__(self, value, /)\n",
      " |      Return self>value.\n",
      " |  \n",
      " |  __hash__(self, /)\n",
      " |      Return hash(self).\n",
      " |  \n",
      " |  __iter__(self, /)\n",
      " |      Implement iter(self).\n",
      " |  \n",
      " |  __le__(self, value, /)\n",
      " |      Return self<=value.\n",
      " |  \n",
      " |  __len__(self, /)\n",
      " |      Return len(self).\n",
      " |  \n",
      " |  __lt__(self, value, /)\n",
      " |      Return self<value.\n",
      " |  \n",
      " |  __ne__(self, value, /)\n",
      " |      Return self!=value.\n",
      " |  \n",
      " |  __new__(*args, **kwargs) from builtins.type\n",
      " |      Create and return a new object.  See help(type) for accurate signature.\n",
      " |  \n",
      " |  __reduce__(...)\n",
      " |      helper for pickle\n",
      " |  \n",
      " |  __repr__(self, /)\n",
      " |      Return repr(self).\n",
      " |  \n",
      " |  __reversed__(...)\n",
      " |      Return a reverse iterator.\n",
      " |  \n",
      " |  count(...)\n",
      " |      rangeobject.count(value) -> integer -- return number of occurrences of value\n",
      " |  \n",
      " |  index(...)\n",
      " |      rangeobject.index(value, [start, [stop]]) -> integer -- return index of value.\n",
      " |      Raise ValueError if the value is not present.\n",
      " |  \n",
      " |  ----------------------------------------------------------------------\n",
      " |  Data descriptors defined here:\n",
      " |  \n",
      " |  start\n",
      " |  \n",
      " |  step\n",
      " |  \n",
      " |  stop\n",
      "\n"
     ]
    }
   ],
   "source": [
    "help(range)"
   ]
  },
  {
   "cell_type": "code",
   "execution_count": 8,
   "metadata": {
    "slideshow": {
     "slide_type": "subslide"
    }
   },
   "outputs": [
    {
     "name": "stdout",
     "output_type": "stream",
     "text": [
      "2\n",
      "4\n",
      "6\n",
      "8\n",
      "10\n",
      "12\n",
      "14\n",
      "16\n",
      "18\n",
      "20\n",
      "22\n",
      "24\n",
      "26\n",
      "28\n",
      "30\n",
      "32\n",
      "34\n",
      "36\n",
      "38\n",
      "40\n",
      "42\n",
      "44\n",
      "46\n",
      "48\n",
      "50\n",
      "52\n",
      "54\n",
      "56\n",
      "58\n",
      "60\n",
      "62\n",
      "64\n",
      "66\n",
      "68\n",
      "70\n",
      "72\n",
      "74\n",
      "76\n",
      "78\n",
      "80\n",
      "82\n",
      "84\n",
      "86\n",
      "88\n",
      "90\n",
      "92\n",
      "94\n",
      "96\n",
      "98\n",
      "100\n"
     ]
    }
   ],
   "source": [
    "# print()\n",
    "for i in range(2, 101, 2):\n",
    "    print(i) # 反覆執行的任務"
   ]
  },
  {
   "cell_type": "markdown",
   "metadata": {
    "slideshow": {
     "slide_type": "subslide"
    }
   },
   "source": [
    "## 介於 1 到 100 之間的偶數有幾個"
   ]
  },
  {
   "cell_type": "code",
   "execution_count": 9,
   "metadata": {
    "slideshow": {
     "slide_type": "subslide"
    }
   },
   "outputs": [
    {
     "data": {
      "text/plain": [
       "50"
      ]
     },
     "execution_count": 9,
     "metadata": {},
     "output_type": "execute_result"
    }
   ],
   "source": [
    "# 計數\n",
    "even_counter = 0\n",
    "for i in range(2, 101, 2):\n",
    "    even_counter += 1 # 反覆執行的任務\n",
    "even_counter"
   ]
  },
  {
   "cell_type": "code",
   "execution_count": 10,
   "metadata": {
    "slideshow": {
     "slide_type": "subslide"
    }
   },
   "outputs": [
    {
     "data": {
      "text/plain": [
       "50"
      ]
     },
     "execution_count": 10,
     "metadata": {},
     "output_type": "execute_result"
    }
   ],
   "source": [
    "# 計數，使用 len()\n",
    "len(range(2, 101, 2))"
   ]
  },
  {
   "cell_type": "markdown",
   "metadata": {
    "slideshow": {
     "slide_type": "subslide"
    }
   },
   "source": [
    "## 介於 1 到 100 之間的偶數加總為何"
   ]
  },
  {
   "cell_type": "code",
   "execution_count": 11,
   "metadata": {
    "slideshow": {
     "slide_type": "subslide"
    }
   },
   "outputs": [
    {
     "data": {
      "text/plain": [
       "2550"
      ]
     },
     "execution_count": 11,
     "metadata": {},
     "output_type": "execute_result"
    }
   ],
   "source": [
    "# 加總\n",
    "even_summation = 0\n",
    "for i in range(2, 101, 2):\n",
    "    even_summation += i # 反覆執行的任務\n",
    "even_summation"
   ]
  },
  {
   "cell_type": "code",
   "execution_count": 12,
   "metadata": {
    "slideshow": {
     "slide_type": "subslide"
    }
   },
   "outputs": [
    {
     "data": {
      "text/plain": [
       "2550"
      ]
     },
     "execution_count": 12,
     "metadata": {},
     "output_type": "execute_result"
    }
   ],
   "source": [
    "# 加總，使用 sum()\n",
    "sum(range(2, 101, 2))"
   ]
  },
  {
   "cell_type": "markdown",
   "metadata": {
    "slideshow": {
     "slide_type": "subslide"
    }
   },
   "source": [
    "## 介於 1 到 100 之間的偶數是哪些"
   ]
  },
  {
   "cell_type": "code",
   "execution_count": 13,
   "metadata": {
    "slideshow": {
     "slide_type": "subslide"
    }
   },
   "outputs": [
    {
     "name": "stdout",
     "output_type": "stream",
     "text": [
      "[2, 4, 6, 8, 10, 12, 14, 16, 18, 20, 22, 24, 26, 28, 30, 32, 34, 36, 38, 40, 42, 44, 46, 48, 50, 52, 54, 56, 58, 60, 62, 64, 66, 68, 70, 72, 74, 76, 78, 80, 82, 84, 86, 88, 90, 92, 94, 96, 98, 100]\n"
     ]
    }
   ],
   "source": [
    "# 合併\n",
    "even_numbers = list()\n",
    "for i in range(2, 101, 2):\n",
    "    even_numbers.append(i) # 反覆執行的任務\n",
    "print(even_numbers)"
   ]
  },
  {
   "cell_type": "code",
   "execution_count": 14,
   "metadata": {
    "slideshow": {
     "slide_type": "subslide"
    }
   },
   "outputs": [
    {
     "name": "stdout",
     "output_type": "stream",
     "text": [
      "[2, 4, 6, 8, 10, 12, 14, 16, 18, 20, 22, 24, 26, 28, 30, 32, 34, 36, 38, 40, 42, 44, 46, 48, 50, 52, 54, 56, 58, 60, 62, 64, 66, 68, 70, 72, 74, 76, 78, 80, 82, 84, 86, 88, 90, 92, 94, 96, 98, 100]\n"
     ]
    }
   ],
   "source": [
    "# 合併，使用 list()\n",
    "even_numbers = list(range(2, 101, 2))\n",
    "print(even_numbers)"
   ]
  },
  {
   "cell_type": "markdown",
   "metadata": {
    "slideshow": {
     "slide_type": "subslide"
    }
   },
   "source": [
    "## 判斷質數\n",
    "\n",
    "在大於 1 的正整數中，除了 1 和該數自身外，無法被其他正整數整除的數字。"
   ]
  },
  {
   "cell_type": "code",
   "execution_count": 15,
   "metadata": {
    "slideshow": {
     "slide_type": "subslide"
    }
   },
   "outputs": [],
   "source": [
    "def is_prime(x):\n",
    "    divisor_cnts = 0\n",
    "    for i in range(1, x + 1):\n",
    "        if x % i == 0:\n",
    "            divisor_cnts += 1\n",
    "    if divisor_cnts == 2:\n",
    "        return \"{} 是質數\".format(x)\n",
    "    else:\n",
    "        return \"{} 不是質數\".format(x)"
   ]
  },
  {
   "cell_type": "markdown",
   "metadata": {
    "slideshow": {
     "slide_type": "subslide"
    }
   },
   "source": [
    "## `dict` 中有兩個元件可以被迭代：keys 與 values\n",
    "\n",
    "- `.keys()`：預設\n",
    "- `.values()`\n",
    "- `.items()`：同時迭代 keys 與 values"
   ]
  },
  {
   "cell_type": "code",
   "execution_count": 16,
   "metadata": {
    "slideshow": {
     "slide_type": "subslide"
    }
   },
   "outputs": [
    {
     "name": "stdout",
     "output_type": "stream",
     "text": [
      "Iron Man\n",
      "Captain America\n",
      "Hulk\n",
      "Thor\n",
      "Black Widow\n",
      "Hawkeye\n"
     ]
    }
   ],
   "source": [
    "the_avengers = {\n",
    "    \"Iron Man\": \"Tony Stark\",\n",
    "    \"Captain America\": \"Steve Rogers\",\n",
    "    \"Hulk\": \"Bruce Banner\",\n",
    "    \"Thor\": \"Thor\",\n",
    "    \"Black Widow\": \"Natasha Romanoff\",\n",
    "    \"Hawkeye\": \"Clint Barton\"\n",
    "}\n",
    "for k in the_avengers:\n",
    "    print(k)"
   ]
  },
  {
   "cell_type": "code",
   "execution_count": 17,
   "metadata": {
    "slideshow": {
     "slide_type": "subslide"
    }
   },
   "outputs": [
    {
     "name": "stdout",
     "output_type": "stream",
     "text": [
      "Iron Man\n",
      "Captain America\n",
      "Hulk\n",
      "Thor\n",
      "Black Widow\n",
      "Hawkeye\n"
     ]
    }
   ],
   "source": [
    "the_avengers = {\n",
    "    \"Iron Man\": \"Tony Stark\",\n",
    "    \"Captain America\": \"Steve Rogers\",\n",
    "    \"Hulk\": \"Bruce Banner\",\n",
    "    \"Thor\": \"Thor\",\n",
    "    \"Black Widow\": \"Natasha Romanoff\",\n",
    "    \"Hawkeye\": \"Clint Barton\"\n",
    "}\n",
    "for k in the_avengers.keys():\n",
    "    print(k)"
   ]
  },
  {
   "cell_type": "code",
   "execution_count": 18,
   "metadata": {
    "slideshow": {
     "slide_type": "subslide"
    }
   },
   "outputs": [
    {
     "name": "stdout",
     "output_type": "stream",
     "text": [
      "Tony Stark\n",
      "Steve Rogers\n",
      "Bruce Banner\n",
      "Thor\n",
      "Natasha Romanoff\n",
      "Clint Barton\n"
     ]
    }
   ],
   "source": [
    "the_avengers = {\n",
    "    \"Iron Man\": \"Tony Stark\",\n",
    "    \"Captain America\": \"Steve Rogers\",\n",
    "    \"Hulk\": \"Bruce Banner\",\n",
    "    \"Thor\": \"Thor\",\n",
    "    \"Black Widow\": \"Natasha Romanoff\",\n",
    "    \"Hawkeye\": \"Clint Barton\"\n",
    "}\n",
    "for k in the_avengers.values():\n",
    "    print(k)"
   ]
  },
  {
   "cell_type": "code",
   "execution_count": 19,
   "metadata": {
    "slideshow": {
     "slide_type": "subslide"
    }
   },
   "outputs": [
    {
     "name": "stdout",
     "output_type": "stream",
     "text": [
      "Tony Stark a.k.a. Iron Man\n",
      "Steve Rogers a.k.a. Captain America\n",
      "Bruce Banner a.k.a. Hulk\n",
      "Thor a.k.a. Thor\n",
      "Natasha Romanoff a.k.a. Black Widow\n",
      "Clint Barton a.k.a. Hawkeye\n"
     ]
    }
   ],
   "source": [
    "the_avengers = {\n",
    "    \"Iron Man\": \"Tony Stark\",\n",
    "    \"Captain America\": \"Steve Rogers\",\n",
    "    \"Hulk\": \"Bruce Banner\",\n",
    "    \"Thor\": \"Thor\",\n",
    "    \"Black Widow\": \"Natasha Romanoff\",\n",
    "    \"Hawkeye\": \"Clint Barton\"\n",
    "}\n",
    "for k, v in the_avengers.items():\n",
    "    print(\"{} a.k.a. {}\".format(v, k))"
   ]
  },
  {
   "cell_type": "markdown",
   "metadata": {
    "slideshow": {
     "slide_type": "slide"
    }
   },
   "source": [
    "## List comprehension"
   ]
  },
  {
   "cell_type": "markdown",
   "metadata": {
    "slideshow": {
     "slide_type": "subslide"
    }
   },
   "source": [
    "## 什麼是 List comprehension\n",
    "\n",
    "> 將使用迭代創建 list 壓縮為簡潔單行的技巧。"
   ]
  },
  {
   "cell_type": "code",
   "execution_count": 20,
   "metadata": {
    "slideshow": {
     "slide_type": "subslide"
    }
   },
   "outputs": [
    {
     "name": "stdout",
     "output_type": "stream",
     "text": [
      "[0, 1, 4, 9, 16, 25, 36, 49, 64, 81]\n"
     ]
    }
   ],
   "source": [
    "# 沒有使用 List comprehension\n",
    "squared = list()\n",
    "for i in range(10):\n",
    "    squared.append(i**2)\n",
    "print(squared)"
   ]
  },
  {
   "cell_type": "code",
   "execution_count": 21,
   "metadata": {
    "slideshow": {
     "slide_type": "subslide"
    }
   },
   "outputs": [
    {
     "name": "stdout",
     "output_type": "stream",
     "text": [
      "[0, 1, 4, 9, 16, 25, 36, 49, 64, 81]\n"
     ]
    }
   ],
   "source": [
    "# 使用 List comprehension\n",
    "squared = [i**2 for i in range(10)]\n",
    "print(squared)"
   ]
  },
  {
   "cell_type": "code",
   "execution_count": 22,
   "metadata": {
    "slideshow": {
     "slide_type": "subslide"
    }
   },
   "outputs": [
    {
     "name": "stdout",
     "output_type": "stream",
     "text": [
      "[1, 3, 5, 7, 9]\n"
     ]
    }
   ],
   "source": [
    "# 使用 List comprehension + if\n",
    "odds = [i for i in range(10) if i % 2]\n",
    "print(odds)"
   ]
  },
  {
   "cell_type": "code",
   "execution_count": 23,
   "metadata": {
    "slideshow": {
     "slide_type": "subslide"
    }
   },
   "outputs": [
    {
     "name": "stdout",
     "output_type": "stream",
     "text": [
      "[False, True, False, True, False, True, False, True, False, True]\n"
     ]
    }
   ],
   "source": [
    "# 使用 List comprehension + if-else\n",
    "is_odds = [True if i % 2 else False for i in range(10)]\n",
    "print(is_odds)"
   ]
  },
  {
   "cell_type": "markdown",
   "metadata": {
    "slideshow": {
     "slide_type": "subslide"
    }
   },
   "source": [
    "## 可搭配使用的保留字\n",
    "\n",
    "- `break`\n",
    "- `continue`"
   ]
  },
  {
   "cell_type": "markdown",
   "metadata": {
    "slideshow": {
     "slide_type": "subslide"
    }
   },
   "source": [
    "## 判斷質數：加入 `break`"
   ]
  },
  {
   "cell_type": "code",
   "execution_count": 24,
   "metadata": {},
   "outputs": [],
   "source": [
    "def is_prime(x):\n",
    "    divisor_cnts = 0\n",
    "    for i in range(1, x + 1):\n",
    "        if x % i == 0:\n",
    "            divisor_cnts += 1\n",
    "        if divisor_cnts > 2:\n",
    "            break\n",
    "    if divisor_cnts == 2:\n",
    "        return \"{} 是質數\".format(x)\n",
    "    else:\n",
    "        return \"{} 不是質數\".format(x)"
   ]
  },
  {
   "cell_type": "markdown",
   "metadata": {
    "slideshow": {
     "slide_type": "slide"
    }
   },
   "source": [
    "## 何時用 `for`？何時用 `while`？"
   ]
  },
  {
   "cell_type": "markdown",
   "metadata": {
    "slideshow": {
     "slide_type": "subslide"
    }
   },
   "source": [
    "## 所有的 `for` 都可以用 `while` 重現，但反之不然\n",
    "\n",
    "- 確定重複運行次數的情境：可以採用 `for` 或 `while`\n",
    "- 不確定重複運行次數的情境：僅能採用 `while`"
   ]
  },
  {
   "cell_type": "markdown",
   "metadata": {
    "slideshow": {
     "slide_type": "subslide"
    }
   },
   "source": [
    "## 例如將 10 進位的整數轉換成 2 進位"
   ]
  },
  {
   "cell_type": "code",
   "execution_count": 25,
   "metadata": {
    "slideshow": {
     "slide_type": "subslide"
    }
   },
   "outputs": [],
   "source": [
    "def dec_to_bin(x):\n",
    "    binaries = ''\n",
    "    while True:\n",
    "        modular = x % 2\n",
    "        binaries += str(modular)\n",
    "        x //= 2\n",
    "        if x < 2:\n",
    "            break\n",
    "    binaries += str(x)\n",
    "    return binaries[::-1]"
   ]
  },
  {
   "cell_type": "markdown",
   "metadata": {
    "slideshow": {
     "slide_type": "subslide"
    }
   },
   "source": [
    "## 例如將浮點數轉換成分數並進行約分"
   ]
  },
  {
   "cell_type": "code",
   "execution_count": 26,
   "metadata": {
    "slideshow": {
     "slide_type": "subslide"
    }
   },
   "outputs": [],
   "source": [
    "def as_integer_ratio(x):\n",
    "    x_str = str(x)\n",
    "    int_part = int(x_str.split(\".\")[0])\n",
    "    decimal_part = x_str.split(\".\")[1]\n",
    "    n_decimal = len(decimal_part)\n",
    "    denominator = 10**n_decimal\n",
    "    numerator = int(decimal_part)\n",
    "    while numerator % 2 == 0 and denominator % 2 == 0:\n",
    "        denominator /= 2\n",
    "        numerator /= 2\n",
    "    while numerator % 5 == 0 and denominator % 5 == 0:\n",
    "        denominator /= 5\n",
    "        numerator /= 5\n",
    "    final_numerator = int(int_part*denominator + numerator)\n",
    "    final_denominator = int(denominator)\n",
    "    return final_numerator, final_denominator"
   ]
  },
  {
   "cell_type": "markdown",
   "metadata": {
    "slideshow": {
     "slide_type": "subslide"
    }
   },
   "source": [
    "## 具體來說，採用 `for` 與 `while` 的時機\n",
    "\n",
    "- 當重複的任務具備隨機性（randomness）或不確定性（uncertainty），採用 `while`\n",
    "- 否則撰寫 `for` 是相對輕鬆的方式"
   ]
  },
  {
   "cell_type": "markdown",
   "metadata": {
    "slideshow": {
     "slide_type": "slide"
    }
   },
   "source": [
    "## 隨堂練習"
   ]
  },
  {
   "cell_type": "markdown",
   "metadata": {
    "slideshow": {
     "slide_type": "subslide"
    }
   },
   "source": [
    "## 隨堂練習：定義一個函式 `find_odds(x, y)` 將介於 x 到 y 之間的奇數儲存在一個 list 之中回傳，假如 x、y 是奇數則回傳的 list 要包含 x 與 y\n",
    "\n",
    "- 預期輸入：兩個整數 `x` 與 `y`\n",
    "- 預期輸出：一個 list"
   ]
  },
  {
   "cell_type": "code",
   "execution_count": 27,
   "metadata": {
    "slideshow": {
     "slide_type": "subslide"
    }
   },
   "outputs": [],
   "source": [
    "def find_odds(x, y):\n",
    "    \"\"\"\n",
    "    >>> find_odds(5, 10)\n",
    "    [5, 7, 9]\n",
    "    >>> find_odds(10, 15)\n",
    "    [11, 13, 15]\n",
    "    >>> find_odds(11, 19)\n",
    "    [11, 13, 15, 17, 19]\n",
    "    \"\"\""
   ]
  },
  {
   "cell_type": "markdown",
   "metadata": {
    "slideshow": {
     "slide_type": "subslide"
    }
   },
   "source": [
    "## 隨堂練習：定義一個函式 `fizz_buzz_100()` 將介於 1 到 100 之間的整數儲存在一個 list 之中回傳，假如該整數可以被 3 整除，改儲存文字 `'Fizz'`，假如該整數可以被 5 整除，改儲存文字 `'Buzz'`，假如該整數可以被 15 整除，改儲存文字 `'Fizz Buzz'`\n",
    "\n",
    "- 預期輸入：無\n",
    "- 預期輸出：一個長度為 100 的 list"
   ]
  },
  {
   "cell_type": "code",
   "execution_count": 28,
   "metadata": {
    "slideshow": {
     "slide_type": "subslide"
    }
   },
   "outputs": [],
   "source": [
    "def fizz_buzz_100():\n",
    "    \"\"\"\n",
    "    >>> fizz_buzz_100()\n",
    "    [1, 2, 'Fizz', 4, 'Buzz',..., 14, 'Fizz Buzz', ..., 98, 'Fizz', 'Buzz']\n",
    "    \"\"\""
   ]
  },
  {
   "cell_type": "markdown",
   "metadata": {
    "slideshow": {
     "slide_type": "subslide"
    }
   },
   "source": [
    "## 隨堂練習：定義一個函式 `reverse_vowels(x)` 將英文單字的母音（a, e, i, o, u）更換為大寫、（A, E, I, O, U）更換為小寫\n",
    "\n",
    "- 預期輸入：一個文字 `x`\n",
    "- 預期輸出：一個文字\n",
    "\n",
    "備註：使用 `x.upper()` 與 `x.lower()` 可以將 `x` 更換成大寫或小寫"
   ]
  },
  {
   "cell_type": "code",
   "execution_count": 29,
   "metadata": {
    "slideshow": {
     "slide_type": "subslide"
    }
   },
   "outputs": [],
   "source": [
    "def reverse_vowels(x):\n",
    "    \"\"\"\n",
    "    >>> reverse_vowels('Luke Skywalker')\n",
    "    'LUkE SkywAlEr'\n",
    "    >>> reverse_vowels('Darth Vadar')\n",
    "    'DArth VAdAr'\n",
    "    >>> reverse_vowels('The Avengers')\n",
    "    'ThE avEngErs'\n",
    "    \"\"\""
   ]
  },
  {
   "cell_type": "markdown",
   "metadata": {
    "slideshow": {
     "slide_type": "subslide"
    }
   },
   "source": [
    "## 隨堂練習：定義一個函式 `find_primes(x, y)` 將介於 x 到 y 之間的質數儲存在一個 list 之中回傳，假如 x、y 是質數則回傳的 list 要包含 x 與 y\n",
    "\n",
    "- 預期輸入：兩個整數 `x` 與 `y`\n",
    "- 預期輸出：一個 list"
   ]
  },
  {
   "cell_type": "code",
   "execution_count": 30,
   "metadata": {
    "slideshow": {
     "slide_type": "subslide"
    }
   },
   "outputs": [],
   "source": [
    "def find_primes(x, y):\n",
    "    \"\"\"\n",
    "    >>> find_primes(1, 7)\n",
    "    [2, 3, 5, 7]\n",
    "    >>> find_primes(11, 20)\n",
    "    [11, 13, 17, 19]\n",
    "    >>> find_primes(11, 29)\n",
    "    [11, 13, 17, 19, 23, 29]\n",
    "    \"\"\""
   ]
  },
  {
   "cell_type": "markdown",
   "metadata": {
    "slideshow": {
     "slide_type": "subslide"
    }
   },
   "source": [
    "## 隨堂練習：定義一個函式 `ascii_dict()` 將大寫英文字母 A 到 Z 與小寫英文字母 a 到 z 這 52 個字母所對應的十進位 [ASCII](https://zh.wikipedia.org/wiki/ASCII) 編碼以 `dict` 的格式回傳\n",
    "\n",
    "- 預期輸入：無\n",
    "- 預期輸出：一個長度為 52 的 dict\n",
    "\n",
    "備註：使用 `ord(x)` 可以獲得 `x` 的十進位 ASCII 編碼、使用 `chr(x)` 可以獲得十進位 ASCII 編碼的字母"
   ]
  },
  {
   "cell_type": "code",
   "execution_count": 31,
   "metadata": {
    "slideshow": {
     "slide_type": "subslide"
    }
   },
   "outputs": [],
   "source": [
    "def ascii_dict():\n",
    "    \"\"\"\n",
    "    >>> ascii_dict()\n",
    "    {'A': 65, 'B': 66, ..., 'Y': 89, 'Z': 90, 'a': 97, 'b': 98, ..., 'y': 121, 'z': 122}\n",
    "    \"\"\""
   ]
  },
  {
   "cell_type": "markdown",
   "metadata": {
    "slideshow": {
     "slide_type": "subslide"
    }
   },
   "source": [
    "## 執行測試"
   ]
  },
  {
   "cell_type": "code",
   "execution_count": null,
   "metadata": {
    "slideshow": {
     "slide_type": "-"
    }
   },
   "outputs": [],
   "source": [
    "%load ../test_cases/test_cases_06.py"
   ]
  }
 ],
 "metadata": {
  "celltoolbar": "Slideshow",
  "kernelspec": {
   "display_name": "Python 3",
   "language": "python",
   "name": "python3"
  },
  "language_info": {
   "codemirror_mode": {
    "name": "ipython",
    "version": 3
   },
   "file_extension": ".py",
   "mimetype": "text/x-python",
   "name": "python",
   "nbconvert_exporter": "python",
   "pygments_lexer": "ipython3",
   "version": "3.6.8"
  }
 },
 "nbformat": 4,
 "nbformat_minor": 2
}
