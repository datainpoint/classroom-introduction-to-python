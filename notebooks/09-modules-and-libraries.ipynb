{
 "cells": [
  {
   "cell_type": "markdown",
   "metadata": {
    "slideshow": {
     "slide_type": "slide"
    }
   },
   "source": [
    "# 鍛鍊你的資料分析力 | Python 程式設計\n",
    "\n",
    "> 模組與套件\n",
    "\n",
    "郭耀仁 <yaojenkuo@datainpoint.com> from [DATAINPOINT](https://www.datainpoint.com/)"
   ]
  },
  {
   "cell_type": "markdown",
   "metadata": {
    "slideshow": {
     "slide_type": "subslide"
    }
   },
   "source": [
    "> One feature of Python that makes it useful for a wide range of tasks is that it comes \"batteries included\"—that is, the Python standard library contains useful tools for a wide range of tasks."
   ]
  },
  {
   "cell_type": "markdown",
   "metadata": {
    "slideshow": {
     "slide_type": "subslide"
    }
   },
   "source": [
    "## 程式封裝的層級\n",
    "\n",
    "- **套件（Libraries）**\n",
    "    - **模組（Modules）**\n",
    "        - 類別（Classes）\n",
    "            - 函式（Functions）"
   ]
  },
  {
   "cell_type": "markdown",
   "metadata": {
    "slideshow": {
     "slide_type": "subslide"
    }
   },
   "source": [
    "## 大綱\n",
    "\n",
    "- `import` 指令\n",
    "- 自訂模組\n",
    "- 自訂套件"
   ]
  },
  {
   "cell_type": "markdown",
   "metadata": {
    "slideshow": {
     "slide_type": "slide"
    }
   },
   "source": [
    "## `import` 指令"
   ]
  },
  {
   "cell_type": "markdown",
   "metadata": {
    "slideshow": {
     "slide_type": "subslide"
    }
   },
   "source": [
    "## 使用 `import` 指令載入標準與第三方模組套件\n",
    "\n",
    "- 標準模組套件（Standard modules/libraries）\n",
    "- 外部模組套件（Third-party modules/libraries）"
   ]
  },
  {
   "cell_type": "markdown",
   "metadata": {
    "slideshow": {
     "slide_type": "subslide"
    }
   },
   "source": [
    "## 標準模組套件：伴隨 Python 直譯器而來，無需額外安裝\n",
    "\n",
    "- `re`\n",
    "- `datetime`\n",
    "- `random`\n",
    "- `math`\n",
    "- ...etc.\n",
    "\n",
    "Source: <https://docs.python.org/3/library/>"
   ]
  },
  {
   "cell_type": "markdown",
   "metadata": {
    "slideshow": {
     "slide_type": "subslide"
    }
   },
   "source": [
    "## 使用 `import` 指令：以 `math` 為例"
   ]
  },
  {
   "cell_type": "code",
   "execution_count": 1,
   "metadata": {
    "slideshow": {
     "slide_type": "-"
    }
   },
   "outputs": [
    {
     "name": "stdout",
     "output_type": "stream",
     "text": [
      "3.141592653589793\n"
     ]
    }
   ],
   "source": [
    "import math\n",
    "\n",
    "print(math.pi)"
   ]
  },
  {
   "cell_type": "markdown",
   "metadata": {
    "slideshow": {
     "slide_type": "subslide"
    }
   },
   "source": [
    "## 使用 `import` 指令搭配縮寫"
   ]
  },
  {
   "cell_type": "code",
   "execution_count": 2,
   "metadata": {},
   "outputs": [
    {
     "name": "stdout",
     "output_type": "stream",
     "text": [
      "3.141592653589793\n"
     ]
    }
   ],
   "source": [
    "import math as m\n",
    "\n",
    "print(m.pi)"
   ]
  },
  {
   "cell_type": "markdown",
   "metadata": {
    "slideshow": {
     "slide_type": "subslide"
    }
   },
   "source": [
    "## 使用 `from` 搭配 `import` 指令載入部分功能"
   ]
  },
  {
   "cell_type": "code",
   "execution_count": 3,
   "metadata": {},
   "outputs": [
    {
     "name": "stdout",
     "output_type": "stream",
     "text": [
      "1.0\n"
     ]
    }
   ],
   "source": [
    "from math import sin, pi\n",
    "\n",
    "print(sin(pi/2))"
   ]
  },
  {
   "cell_type": "markdown",
   "metadata": {
    "slideshow": {
     "slide_type": "subslide"
    }
   },
   "source": [
    "## 第三方套件：使用 `pip install` 指令安裝\n",
    "\n",
    "```bash\n",
    "pip install LIBRARY_NAME\n",
    "```"
   ]
  },
  {
   "cell_type": "markdown",
   "metadata": {
    "slideshow": {
     "slide_type": "subslide"
    }
   },
   "source": [
    "## 使用 `pip` 安裝第三方套件 `numpy`\n",
    "\n",
    "```bash\n",
    "pip install numpy\n",
    "```"
   ]
  },
  {
   "cell_type": "markdown",
   "metadata": {
    "slideshow": {
     "slide_type": "subslide"
    }
   },
   "source": [
    "## 檢視套件安裝的路徑：使用 `__file__` 屬性\n",
    "\n",
    "```python\n",
    "import numpy as np\n",
    "print(np.__file__)\n",
    "```"
   ]
  },
  {
   "cell_type": "markdown",
   "metadata": {
    "slideshow": {
     "slide_type": "subslide"
    }
   },
   "source": [
    "## 套件安裝的路徑（以我們上課所使用的環境為例）\n",
    "\n",
    "- 標準模組套件：`/srv/conda/envs/notebook/lib/python3.7`\n",
    "- 外部模組套件：`/srv/conda/envs/notebook/lib/python3.7/site-packages`"
   ]
  },
  {
   "cell_type": "markdown",
   "metadata": {
    "slideshow": {
     "slide_type": "subslide"
    }
   },
   "source": [
    "## 前往觀看 this\n",
    "\n",
    "New > Terminal\n",
    "\n",
    "```bash\n",
    "cd /srv/conda/envs/notebook/lib/python3.7\n",
    "ls | grep this\n",
    "cat this.py\n",
    "```"
   ]
  },
  {
   "cell_type": "markdown",
   "metadata": {
    "slideshow": {
     "slide_type": "subslide"
    }
   },
   "source": [
    "## 前往觀看 numpy\n",
    "\n",
    "New > Terminal\n",
    "\n",
    "```bash\n",
    "cd /srv/conda/envs/notebook/lib/python3.7/site-packages\n",
    "ls | grep numpy\n",
    "```"
   ]
  },
  {
   "cell_type": "markdown",
   "metadata": {
    "slideshow": {
     "slide_type": "subslide"
    }
   },
   "source": [
    "## `pip` 是 Python 的模組套件管理工具\n",
    "\n",
    "- 不需額外安裝\n",
    "- 協助使用者從 [Python Pacakge Index](https://pypi.org/) 下載、安裝或更新"
   ]
  },
  {
   "cell_type": "markdown",
   "metadata": {
    "slideshow": {
     "slide_type": "subslide"
    }
   },
   "source": [
    "## 檢視 `pip` 版本\n",
    "\n",
    "```bash\n",
    "pip --version\n",
    "```"
   ]
  },
  {
   "cell_type": "markdown",
   "metadata": {
    "slideshow": {
     "slide_type": "subslide"
    }
   },
   "source": [
    "## 更新 `pip`\n",
    "\n",
    "- Linux / macOS\n",
    "\n",
    "```bash\n",
    "pip install --upgrade pip\n",
    "```\n",
    "\n",
    "- Windows\n",
    "\n",
    "```bash\n",
    "python -m pip install -U pip\n",
    "```"
   ]
  },
  {
   "cell_type": "markdown",
   "metadata": {
    "slideshow": {
     "slide_type": "slide"
    }
   },
   "source": [
    "## 自訂模組"
   ]
  },
  {
   "cell_type": "markdown",
   "metadata": {
    "slideshow": {
     "slide_type": "subslide"
    }
   },
   "source": [
    "## 何謂模組\n",
    "\n",
    "- 將函式或類別封裝在一個 `.py` 檔案中\n",
    "- `.py` 的檔名就是模組名稱"
   ]
  },
  {
   "cell_type": "markdown",
   "metadata": {
    "slideshow": {
     "slide_type": "subslide"
    }
   },
   "source": [
    "## 將 `celsius_to_fahrenheit()` 函式封裝在 `temperature_scale.py` 的檔案中\n",
    "\n",
    "模組名稱：`temperature_scale`。\n",
    "\n",
    "```python\n",
    "# temperature_scale.py\n",
    "def celsius_to_fahrenheit(x):\n",
    "    return x * 9/5 + 32\n",
    "```"
   ]
  },
  {
   "cell_type": "markdown",
   "metadata": {
    "slideshow": {
     "slide_type": "subslide"
    }
   },
   "source": [
    "## 將 `temperature_scale.py` 儲存在 `/notebooks` 目錄下（以我們上課所使用的環境為例）"
   ]
  },
  {
   "cell_type": "code",
   "execution_count": 4,
   "metadata": {
    "slideshow": {
     "slide_type": "subslide"
    }
   },
   "outputs": [
    {
     "data": {
      "text/plain": [
       "86.0"
      ]
     },
     "execution_count": 4,
     "metadata": {},
     "output_type": "execute_result"
    }
   ],
   "source": [
    "import temperature_scale as ts\n",
    "\n",
    "ts.celsius_to_fahrenheit(30)"
   ]
  },
  {
   "cell_type": "code",
   "execution_count": 5,
   "metadata": {
    "slideshow": {
     "slide_type": "subslide"
    }
   },
   "outputs": [
    {
     "data": {
      "text/plain": [
       "86.0"
      ]
     },
     "execution_count": 5,
     "metadata": {},
     "output_type": "execute_result"
    }
   ],
   "source": [
    "from temperature_scale import celsius_to_fahrenheit\n",
    "\n",
    "celsius_to_fahrenheit(30)"
   ]
  },
  {
   "cell_type": "code",
   "execution_count": 6,
   "metadata": {
    "slideshow": {
     "slide_type": "subslide"
    }
   },
   "outputs": [
    {
     "data": {
      "text/plain": [
       "86.0"
      ]
     },
     "execution_count": 6,
     "metadata": {},
     "output_type": "execute_result"
    }
   ],
   "source": [
    "from temperature_scale import celsius_to_fahrenheit as c2f\n",
    "\n",
    "c2f(30)"
   ]
  },
  {
   "cell_type": "markdown",
   "metadata": {
    "slideshow": {
     "slide_type": "subslide"
    }
   },
   "source": [
    "## 將 `CelsiusFahrenheit` 類別加入到 `temperature_scale.py` 的檔案中\n",
    "\n",
    "模組名稱：`temperature_scale`。\n",
    "\n",
    "```python\n",
    "# temperature_scale.py\n",
    "class CelsiusFahrenheit:\n",
    "    def c2f(self, x):\n",
    "        return x * 9/5 + 32\n",
    "    def f2c(self, x):\n",
    "        return (x - 32) * 5/9\n",
    "```"
   ]
  },
  {
   "cell_type": "markdown",
   "metadata": {
    "slideshow": {
     "slide_type": "subslide"
    }
   },
   "source": [
    "## 將 `temperature_scale.py` 儲存在 `/notebooks` 目錄下（以我們上課所使用的環境為例）"
   ]
  },
  {
   "cell_type": "code",
   "execution_count": 7,
   "metadata": {
    "slideshow": {
     "slide_type": "subslide"
    }
   },
   "outputs": [
    {
     "name": "stdout",
     "output_type": "stream",
     "text": [
      "86.0\n",
      "30.0\n"
     ]
    }
   ],
   "source": [
    "import temperature_scale as ts\n",
    "\n",
    "celsius_fahrenheit = ts.CelsiusFahrenheit()\n",
    "print(celsius_fahrenheit.c2f(30))\n",
    "print(celsius_fahrenheit.f2c(86))"
   ]
  },
  {
   "cell_type": "code",
   "execution_count": 8,
   "metadata": {
    "slideshow": {
     "slide_type": "subslide"
    }
   },
   "outputs": [
    {
     "name": "stdout",
     "output_type": "stream",
     "text": [
      "86.0\n",
      "30.0\n"
     ]
    }
   ],
   "source": [
    "from temperature_scale import CelsiusFahrenheit\n",
    "\n",
    "celsius_fahrenheit = CelsiusFahrenheit()\n",
    "print(celsius_fahrenheit.c2f(30))\n",
    "print(celsius_fahrenheit.f2c(86))"
   ]
  },
  {
   "cell_type": "code",
   "execution_count": 9,
   "metadata": {
    "slideshow": {
     "slide_type": "subslide"
    }
   },
   "outputs": [
    {
     "name": "stdout",
     "output_type": "stream",
     "text": [
      "86.0\n",
      "30.0\n"
     ]
    }
   ],
   "source": [
    "from temperature_scale import CelsiusFahrenheit as CF\n",
    "\n",
    "celsius_fahrenheit = CF()\n",
    "print(celsius_fahrenheit.c2f(30))\n",
    "print(celsius_fahrenheit.f2c(86))"
   ]
  },
  {
   "cell_type": "markdown",
   "metadata": {
    "slideshow": {
     "slide_type": "slide"
    }
   },
   "source": [
    "## 自訂套件"
   ]
  },
  {
   "cell_type": "markdown",
   "metadata": {
    "slideshow": {
     "slide_type": "subslide"
    }
   },
   "source": [
    "## 何謂套件\n",
    "\n",
    "- 多個功能相關的模組（.py 檔案）可以組織成一個套件（資料夾）\n",
    "- 將 `temperature_scale.py` 複製到 `demo_scripts` 資料夾\n",
    "- 資料夾名稱就是套件名稱（`demo_scripts`）"
   ]
  },
  {
   "cell_type": "code",
   "execution_count": 10,
   "metadata": {
    "slideshow": {
     "slide_type": "subslide"
    }
   },
   "outputs": [
    {
     "name": "stdout",
     "output_type": "stream",
     "text": [
      "86.0\n",
      "30.0\n"
     ]
    }
   ],
   "source": [
    "from demo_scripts.temperature_scale import CelsiusFahrenheit\n",
    "\n",
    "celsius_fahrenheit = CelsiusFahrenheit()\n",
    "print(celsius_fahrenheit.c2f(30))\n",
    "print(celsius_fahrenheit.f2c(86))"
   ]
  },
  {
   "cell_type": "markdown",
   "metadata": {
    "slideshow": {
     "slide_type": "slide"
    }
   },
   "source": [
    "## 隨堂練習"
   ]
  },
  {
   "cell_type": "markdown",
   "metadata": {
    "slideshow": {
     "slide_type": "subslide"
    }
   },
   "source": [
    "## 隨堂練習：在 `/notebooks` 自訂一個名為 `bmi_calculator` 的模組\n",
    "\n",
    "\\begin{equation}\n",
    "BMI = \\frac{weight_{kg}}{height_{m}^2}\n",
    "\\end{equation}\n",
    "\n",
    "<https://en.wikipedia.org/wiki/Body_mass_index#/media/File:BMI_chart.svg>\n",
    "\n",
    "- 在該模組中定義一個類別 `BMI`\n",
    "- `BMI` 類別具備兩個方法\n",
    "    - `get_bmi()`\n",
    "    - `get_bmi_label()`"
   ]
  },
  {
   "cell_type": "markdown",
   "metadata": {
    "slideshow": {
     "slide_type": "subslide"
    }
   },
   "source": [
    "```python\n",
    "# bmi_calculator.py\n",
    "class BMI:\n",
    "    \"\"\"\n",
    "    >>> from bmi_calculator import BMI\n",
    "    >>> bmi = BMI(198, 129) # Zion Williamson\n",
    "    >>> bmi.get_bmi()\n",
    "    32.90480563207836\n",
    "    >>> bmi.get_bmi_label()\n",
    "    'Obese'\n",
    "    >>> bmi = BMI(206, 113) # LeBron James\n",
    "    >>> bmi.get_bmi()\n",
    "    26.628334433028563\n",
    "    >>> bmi.get_bmi_label()\n",
    "    'Overweight'\n",
    "    \"\"\"\n",
    "```"
   ]
  },
  {
   "cell_type": "markdown",
   "metadata": {
    "slideshow": {
     "slide_type": "subslide"
    }
   },
   "source": [
    "## 隨堂練習：在 `/notebooks` 新增一個名為 `casino` 的模組\n",
    "\n",
    "- 在該模組中定義一個類別 `Casino`\n",
    "- `Casino` 類別具備方法：\n",
    "    - `toss_a_coin()`\n",
    "    - `roll_a_dice()`\n",
    "    - `deal_a_card()`\n",
    "    \n",
    "備註：使用標準模組套件 [random](https://docs.python.org/3/library/random.html) 實現「隨機性」需求"
   ]
  },
  {
   "cell_type": "markdown",
   "metadata": {
    "slideshow": {
     "slide_type": "subslide"
    }
   },
   "source": [
    "```python\n",
    "# casino.py\n",
    "class Casino:\n",
    "    \"\"\"\n",
    "    >>> from casino import Casino\n",
    "    >>> my_casino = Casino()\n",
    "    >>> my_casino.toss_a_coin()\n",
    "    'Head' # 或 'Tail'\n",
    "    >>> my_casino.roll_a_dice()\n",
    "    6 # 或 1, 2, 3, 4, 5\n",
    "    >>> my_casino.deal_a_card()\n",
    "    '2 of hearts' # 或其他 51 種大小花色 'king of spades', 'ace of diamonds', 'jack of clubs'...\n",
    "    \"\"\"\n",
    "```"
   ]
  },
  {
   "cell_type": "markdown",
   "metadata": {
    "slideshow": {
     "slide_type": "subslide"
    }
   },
   "source": [
    "## 隨堂練習：在 `/notebooks` 新增一個名為 `stats` 的模組\n",
    "\n",
    "- 在該模組中定義一個類別 `Stats`\n",
    "- `Stats` 類別具備方法：\n",
    "    - `mean()`\n",
    "    - `median()`：<https://en.wikipedia.org/wiki/Median>\n",
    "    - `modes()`：<https://en.wikipedia.org/wiki/Mode_(statistics)>"
   ]
  },
  {
   "cell_type": "markdown",
   "metadata": {
    "slideshow": {
     "slide_type": "subslide"
    }
   },
   "source": [
    "```python\n",
    "# stats.py\n",
    "class Stats:\n",
    "    \"\"\"\n",
    "    >>> from stats import Stats\n",
    "    >>> statistics = Stats(1, 2, 2, 3, 4, 7, 9)\n",
    "    >>> statistics.mean()\n",
    "    4.0\n",
    "    >>> statistics.median()\n",
    "    3\n",
    "    >>> statistics.modes()\n",
    "    [2]\n",
    "    >>> statistics = Stats(1, 2, 2, 3, 4, 7, 9, 7)\n",
    "    >>> statistics.mean()\n",
    "    4.375\n",
    "    >>> statistics.median()\n",
    "    3.5\n",
    "    >>> statistics.modes()\n",
    "    [2, 7]\n",
    "    \"\"\"\n",
    "```"
   ]
  },
  {
   "cell_type": "markdown",
   "metadata": {
    "slideshow": {
     "slide_type": "subslide"
    }
   },
   "source": [
    "## 執行測試"
   ]
  },
  {
   "cell_type": "code",
   "execution_count": null,
   "metadata": {
    "slideshow": {
     "slide_type": "-"
    }
   },
   "outputs": [],
   "source": [
    "%load ../test_cases/test_cases_09.py"
   ]
  }
 ],
 "metadata": {
  "celltoolbar": "Slideshow",
  "kernelspec": {
   "display_name": "Python 3",
   "language": "python",
   "name": "python3"
  },
  "language_info": {
   "codemirror_mode": {
    "name": "ipython",
    "version": 3
   },
   "file_extension": ".py",
   "mimetype": "text/x-python",
   "name": "python",
   "nbconvert_exporter": "python",
   "pygments_lexer": "ipython3",
   "version": "3.6.8"
  }
 },
 "nbformat": 4,
 "nbformat_minor": 2
}
