{
 "cells": [
  {
   "cell_type": "markdown",
   "metadata": {
    "slideshow": {
     "slide_type": "slide"
    }
   },
   "source": [
    "# 鍛鍊你的資料分析力 | Python 程式設計\n",
    "\n",
    "> 起步走\n",
    "\n",
    "郭耀仁 <yaojenkuo@datainpoint.com> from [DATAINPOINT](https://www.datainpoint.com/)"
   ]
  },
  {
   "cell_type": "markdown",
   "metadata": {
    "slideshow": {
     "slide_type": "subslide"
    }
   },
   "source": [
    "> Now is better than never.\n",
    "> \n",
    "> Tim Peters, Zen of Python"
   ]
  },
  {
   "cell_type": "markdown",
   "metadata": {
    "slideshow": {
     "slide_type": "subslide"
    }
   },
   "source": [
    "## 大綱\n",
    "\n",
    "- 關於 Python\n",
    "- 執行第一個 Python 程式"
   ]
  },
  {
   "cell_type": "markdown",
   "metadata": {
    "slideshow": {
     "slide_type": "slide"
    }
   },
   "source": [
    "## 關於 Python"
   ]
  },
  {
   "cell_type": "markdown",
   "metadata": {
    "slideshow": {
     "slide_type": "subslide"
    }
   },
   "source": [
    "## 廣泛用途程式語言\n",
    "\n",
    "- 由荷蘭電腦科學家 Guido van Rossum 於 1991 年創造\n",
    "- 目前由 Python 軟體基金會維護\n",
    "- 高階、直譯、與簡潔"
   ]
  },
  {
   "cell_type": "markdown",
   "metadata": {
    "slideshow": {
     "slide_type": "subslide"
    }
   },
   "source": [
    "## 在多個應用領域中倍受熱愛\n",
    "\n",
    "- 資料科學\n",
    "- 網站開發\n",
    "- 系統自動化\n",
    "- ...族繁不及備載"
   ]
  },
  {
   "cell_type": "markdown",
   "metadata": {
    "slideshow": {
     "slide_type": "subslide"
    }
   },
   "source": [
    "## 在 NumPy、SciPy、pandas、matplotlib、Scikit-Learn 與 TensorFlow 等套件的強力加持下 Python 成為資料科學團隊的首選"
   ]
  },
  {
   "cell_type": "markdown",
   "metadata": {
    "slideshow": {
     "slide_type": "subslide"
    }
   },
   "source": [
    "## 到底有多受歡迎\n",
    "\n",
    "- [IEEE](https://spectrum.ieee.org/computing/software/the-top-programming-languages-2019)\n",
    "- [TIOBE Index](https://www.tiobe.com/tiobe-index/)\n",
    "- [StackoverFlow Trends](https://insights.stackoverflow.com/trends?tags=java%2Cc%2Cc%2B%2B%2Cpython%2Cc%23%2Cjavascript%2Cphp)\n",
    "- [The Economist](https://www.economist.com/graphic-detail/2018/07/26/python-is-becoming-the-worlds-most-popular-coding-language)"
   ]
  },
  {
   "cell_type": "markdown",
   "metadata": {
    "slideshow": {
     "slide_type": "slide"
    }
   },
   "source": [
    "## 執行第一個 Python 程式"
   ]
  },
  {
   "cell_type": "markdown",
   "metadata": {
    "slideshow": {
     "slide_type": "subslide"
    }
   },
   "source": [
    "## 這堂課建置好一個雲端環境讓各位學員使用\n",
    "\n",
    "透過下面幾個應用程式所搭建而成：\n",
    "\n",
    "- [Binder](https://mybinder.org/)\n",
    "- [GitHub](https://github.com/)\n",
    "- [Project Jupyter](https://jupyter.org/)"
   ]
  },
  {
   "cell_type": "markdown",
   "metadata": {
    "slideshow": {
     "slide_type": "subslide"
    }
   },
   "source": [
    "## 該如何執行一段 Python 程式？\n",
    "\n",
    "- 在終端機使用 `python` 指令執行副檔名為 `.py` 的程式碼\n",
    "- 執行一個或多個副檔名為 `.ipynb` Jupyter Notebook 裡頭的 Code Cell(s)"
   ]
  },
  {
   "cell_type": "markdown",
   "metadata": {
    "slideshow": {
     "slide_type": "subslide"
    }
   },
   "source": [
    "## 根據專案任務決定怎麼執行 Python 程式\n",
    "\n",
    "- 程式開發：執行 Python 程式碼 `.py`\n",
    "- 資料分析：執行 Jupyter Notebook `.ipynb`"
   ]
  },
  {
   "cell_type": "markdown",
   "metadata": {
    "slideshow": {
     "slide_type": "subslide"
    }
   },
   "source": [
    "## 印出哈囉世界\n",
    "\n",
    "```python\n",
    "print(\"Hello World!\")\n",
    "```"
   ]
  },
  {
   "cell_type": "code",
   "execution_count": 1,
   "metadata": {
    "slideshow": {
     "slide_type": "subslide"
    }
   },
   "outputs": [
    {
     "name": "stdout",
     "output_type": "stream",
     "text": [
      "Hello World!\n"
     ]
    }
   ],
   "source": [
    "# 執行 Jupyter Notebook 的 Code cell\n",
    "# 點擊上方選單的 >| Run\n",
    "# 或者使用快捷鍵 Ctrl - Enter\n",
    "# 或者使用快捷鍵 Shift - Enter\n",
    "print(\"Hello World!\")"
   ]
  },
  {
   "cell_type": "markdown",
   "metadata": {
    "slideshow": {
     "slide_type": "subslide"
    }
   },
   "source": [
    "## 在雲端環境的首頁新增 Terminal\n",
    "\n",
    "- New > Terminal\n",
    "- 在新增的 Terminal 執行 `hello.py`\n",
    "\n",
    "```shell\n",
    "cd demo_scripts\n",
    "python hello.py\n",
    "```"
   ]
  },
  {
   "cell_type": "markdown",
   "metadata": {
    "slideshow": {
     "slide_type": "subslide"
    }
   },
   "source": [
    "## 簡單的終端機指令\n",
    "\n",
    "- `pwd` print working directory，將目前所在的路徑印出\n",
    "- `ls` list，將目前所在路徑的檔案、資料夾印出\n",
    "- `cd` change directory，更換路徑到指定的資料夾"
   ]
  },
  {
   "cell_type": "markdown",
   "metadata": {
    "slideshow": {
     "slide_type": "slide"
    }
   },
   "source": [
    "## 隨堂練習"
   ]
  },
  {
   "cell_type": "markdown",
   "metadata": {
    "slideshow": {
     "slide_type": "subslide"
    }
   },
   "source": [
    "## 隨堂練習：Python 禪學\n",
    "\n",
    "- 在家目錄建立一個檔案叫做 `zen.py`\n",
    "- 在 `zen.py` 寫入 `import this`\n",
    "- 在終端機執行 `python zen.py`"
   ]
  },
  {
   "cell_type": "code",
   "execution_count": 2,
   "metadata": {
    "slideshow": {
     "slide_type": "subslide"
    }
   },
   "outputs": [
    {
     "name": "stdout",
     "output_type": "stream",
     "text": [
      "The Zen of Python, by Tim Peters\n",
      "\n",
      "Beautiful is better than ugly.\n",
      "Explicit is better than implicit.\n",
      "Simple is better than complex.\n",
      "Complex is better than complicated.\n",
      "Flat is better than nested.\n",
      "Sparse is better than dense.\n",
      "Readability counts.\n",
      "Special cases aren't special enough to break the rules.\n",
      "Although practicality beats purity.\n",
      "Errors should never pass silently.\n",
      "Unless explicitly silenced.\n",
      "In the face of ambiguity, refuse the temptation to guess.\n",
      "There should be one-- and preferably only one --obvious way to do it.\n",
      "Although that way may not be obvious at first unless you're Dutch.\n",
      "Now is better than never.\n",
      "Although never is often better than *right* now.\n",
      "If the implementation is hard to explain, it's a bad idea.\n",
      "If the implementation is easy to explain, it may be a good idea.\n",
      "Namespaces are one honking great idea -- let's do more of those!\n"
     ]
    }
   ],
   "source": [
    "import this"
   ]
  }
 ],
 "metadata": {
  "celltoolbar": "Slideshow",
  "kernelspec": {
   "display_name": "Python 3",
   "language": "python",
   "name": "python3"
  },
  "language_info": {
   "codemirror_mode": {
    "name": "ipython",
    "version": 3
   },
   "file_extension": ".py",
   "mimetype": "text/x-python",
   "name": "python",
   "nbconvert_exporter": "python",
   "pygments_lexer": "ipython3",
   "version": "3.6.8"
  }
 },
 "nbformat": 4,
 "nbformat_minor": 1
}
